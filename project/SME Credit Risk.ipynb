{
 "cells": [
  {
   "cell_type": "code",
   "execution_count": 4,
   "id": "bff053f7-4e01-4b44-ae13-a0658ddf5839",
   "metadata": {},
   "outputs": [
    {
     "name": "stdout",
     "output_type": "stream",
     "text": [
      "Shape: (1000, 25)\n",
      "First rows:\n"
     ]
    },
    {
     "data": {
      "text/html": [
       "<div>\n",
       "<style scoped>\n",
       "    .dataframe tbody tr th:only-of-type {\n",
       "        vertical-align: middle;\n",
       "    }\n",
       "\n",
       "    .dataframe tbody tr th {\n",
       "        vertical-align: top;\n",
       "    }\n",
       "\n",
       "    .dataframe thead th {\n",
       "        text-align: right;\n",
       "    }\n",
       "</style>\n",
       "<table border=\"1\" class=\"dataframe\">\n",
       "  <thead>\n",
       "    <tr style=\"text-align: right;\">\n",
       "      <th></th>\n",
       "      <th>checking_status</th>\n",
       "      <th>duration_months</th>\n",
       "      <th>credit_history</th>\n",
       "      <th>purpose</th>\n",
       "      <th>credit_amount</th>\n",
       "      <th>savings_status</th>\n",
       "      <th>employment_since</th>\n",
       "      <th>installment_rate_pct</th>\n",
       "      <th>personal_status_sex</th>\n",
       "      <th>other_debtors</th>\n",
       "      <th>...</th>\n",
       "      <th>number_existing_credits</th>\n",
       "      <th>job</th>\n",
       "      <th>people_liable_maintenance</th>\n",
       "      <th>telephone</th>\n",
       "      <th>foreign_worker</th>\n",
       "      <th>extra_indicator_1</th>\n",
       "      <th>extra_indicator_2</th>\n",
       "      <th>extra_indicator_3</th>\n",
       "      <th>extra_indicator_4</th>\n",
       "      <th>target</th>\n",
       "    </tr>\n",
       "  </thead>\n",
       "  <tbody>\n",
       "    <tr>\n",
       "      <th>0</th>\n",
       "      <td>1</td>\n",
       "      <td>6</td>\n",
       "      <td>4</td>\n",
       "      <td>12</td>\n",
       "      <td>5</td>\n",
       "      <td>5</td>\n",
       "      <td>3</td>\n",
       "      <td>4</td>\n",
       "      <td>1</td>\n",
       "      <td>67</td>\n",
       "      <td>...</td>\n",
       "      <td>0</td>\n",
       "      <td>0</td>\n",
       "      <td>1</td>\n",
       "      <td>0</td>\n",
       "      <td>0</td>\n",
       "      <td>1</td>\n",
       "      <td>0</td>\n",
       "      <td>0</td>\n",
       "      <td>1</td>\n",
       "      <td>0</td>\n",
       "    </tr>\n",
       "    <tr>\n",
       "      <th>1</th>\n",
       "      <td>2</td>\n",
       "      <td>48</td>\n",
       "      <td>2</td>\n",
       "      <td>60</td>\n",
       "      <td>1</td>\n",
       "      <td>3</td>\n",
       "      <td>2</td>\n",
       "      <td>2</td>\n",
       "      <td>1</td>\n",
       "      <td>22</td>\n",
       "      <td>...</td>\n",
       "      <td>0</td>\n",
       "      <td>0</td>\n",
       "      <td>1</td>\n",
       "      <td>0</td>\n",
       "      <td>0</td>\n",
       "      <td>1</td>\n",
       "      <td>0</td>\n",
       "      <td>0</td>\n",
       "      <td>1</td>\n",
       "      <td>1</td>\n",
       "    </tr>\n",
       "    <tr>\n",
       "      <th>2</th>\n",
       "      <td>4</td>\n",
       "      <td>12</td>\n",
       "      <td>4</td>\n",
       "      <td>21</td>\n",
       "      <td>1</td>\n",
       "      <td>4</td>\n",
       "      <td>3</td>\n",
       "      <td>3</td>\n",
       "      <td>1</td>\n",
       "      <td>49</td>\n",
       "      <td>...</td>\n",
       "      <td>0</td>\n",
       "      <td>0</td>\n",
       "      <td>1</td>\n",
       "      <td>0</td>\n",
       "      <td>0</td>\n",
       "      <td>1</td>\n",
       "      <td>0</td>\n",
       "      <td>1</td>\n",
       "      <td>0</td>\n",
       "      <td>0</td>\n",
       "    </tr>\n",
       "    <tr>\n",
       "      <th>3</th>\n",
       "      <td>1</td>\n",
       "      <td>42</td>\n",
       "      <td>2</td>\n",
       "      <td>79</td>\n",
       "      <td>1</td>\n",
       "      <td>4</td>\n",
       "      <td>3</td>\n",
       "      <td>4</td>\n",
       "      <td>2</td>\n",
       "      <td>45</td>\n",
       "      <td>...</td>\n",
       "      <td>0</td>\n",
       "      <td>0</td>\n",
       "      <td>0</td>\n",
       "      <td>0</td>\n",
       "      <td>0</td>\n",
       "      <td>0</td>\n",
       "      <td>0</td>\n",
       "      <td>0</td>\n",
       "      <td>1</td>\n",
       "      <td>0</td>\n",
       "    </tr>\n",
       "    <tr>\n",
       "      <th>4</th>\n",
       "      <td>1</td>\n",
       "      <td>24</td>\n",
       "      <td>3</td>\n",
       "      <td>49</td>\n",
       "      <td>1</td>\n",
       "      <td>3</td>\n",
       "      <td>3</td>\n",
       "      <td>4</td>\n",
       "      <td>4</td>\n",
       "      <td>53</td>\n",
       "      <td>...</td>\n",
       "      <td>1</td>\n",
       "      <td>0</td>\n",
       "      <td>1</td>\n",
       "      <td>0</td>\n",
       "      <td>0</td>\n",
       "      <td>0</td>\n",
       "      <td>0</td>\n",
       "      <td>0</td>\n",
       "      <td>1</td>\n",
       "      <td>1</td>\n",
       "    </tr>\n",
       "  </tbody>\n",
       "</table>\n",
       "<p>5 rows × 25 columns</p>\n",
       "</div>"
      ],
      "text/plain": [
       "   checking_status  duration_months  credit_history  purpose  credit_amount  \\\n",
       "0                1                6               4       12              5   \n",
       "1                2               48               2       60              1   \n",
       "2                4               12               4       21              1   \n",
       "3                1               42               2       79              1   \n",
       "4                1               24               3       49              1   \n",
       "\n",
       "   savings_status  employment_since  installment_rate_pct  \\\n",
       "0               5                 3                     4   \n",
       "1               3                 2                     2   \n",
       "2               4                 3                     3   \n",
       "3               4                 3                     4   \n",
       "4               3                 3                     4   \n",
       "\n",
       "   personal_status_sex  other_debtors  ...  number_existing_credits  job  \\\n",
       "0                    1             67  ...                        0    0   \n",
       "1                    1             22  ...                        0    0   \n",
       "2                    1             49  ...                        0    0   \n",
       "3                    2             45  ...                        0    0   \n",
       "4                    4             53  ...                        1    0   \n",
       "\n",
       "   people_liable_maintenance  telephone  foreign_worker  extra_indicator_1  \\\n",
       "0                          1          0               0                  1   \n",
       "1                          1          0               0                  1   \n",
       "2                          1          0               0                  1   \n",
       "3                          0          0               0                  0   \n",
       "4                          1          0               0                  0   \n",
       "\n",
       "   extra_indicator_2  extra_indicator_3  extra_indicator_4  target  \n",
       "0                  0                  0                  1       0  \n",
       "1                  0                  0                  1       1  \n",
       "2                  0                  1                  0       0  \n",
       "3                  0                  0                  1       0  \n",
       "4                  0                  0                  1       1  \n",
       "\n",
       "[5 rows x 25 columns]"
      ]
     },
     "metadata": {},
     "output_type": "display_data"
    },
    {
     "name": "stdout",
     "output_type": "stream",
     "text": [
      "\n",
      "Class balance (0=good, 1=bad):\n",
      "target\n",
      "0    0.7\n",
      "1    0.3\n",
      "Name: proportion, dtype: float64\n",
      "\n",
      "Missing values per column (top 10 shown):\n",
      "checking_status              0\n",
      "other_installment_plans      0\n",
      "extra_indicator_4            0\n",
      "extra_indicator_3            0\n",
      "extra_indicator_2            0\n",
      "extra_indicator_1            0\n",
      "foreign_worker               0\n",
      "telephone                    0\n",
      "people_liable_maintenance    0\n",
      "job                          0\n",
      "dtype: int64\n"
     ]
    }
   ],
   "source": [
    "import pandas as pd\n",
    "\n",
    "df = pd.read_csv(\"data/german.data-numeric\", sep=r\"\\s+\", header=None, engine=\"python\")\n",
    "\n",
    "n_cols = df.shape[1]\n",
    "if n_cols < 2:\n",
    "    raise ValueError(f\"Unexpected column count: {n_cols}\")\n",
    "\n",
    "if n_cols == 21:\n",
    "    # Classic: 20 features + target\n",
    "    cols = [\n",
    "        \"checking_status\", \"duration_months\", \"credit_history\", \"purpose\", \"credit_amount\",\n",
    "        \"savings_status\", \"employment_since\", \"installment_rate_pct\", \"personal_status_sex\", \"other_debtors\",\n",
    "        \"residence_since\", \"property_magnitude\", \"age_years\", \"other_installment_plans\", \"housing\",\n",
    "        \"number_existing_credits\", \"job\", \"people_liable_maintenance\", \"telephone\", \"foreign_worker\",\n",
    "        \"target\"\n",
    "    ]\n",
    "elif n_cols == 25:\n",
    "    # UCI numeric (Statlog) variant: 24 features + target\n",
    "    # The extra 4 are engineered indicator variables in that numeric release.\n",
    "    cols = [\n",
    "        \"checking_status\", \"duration_months\", \"credit_history\", \"purpose\", \"credit_amount\",\n",
    "        \"savings_status\", \"employment_since\", \"installment_rate_pct\", \"personal_status_sex\", \"other_debtors\",\n",
    "        \"residence_since\", \"property_magnitude\", \"age_years\", \"other_installment_plans\", \"housing\",\n",
    "        \"number_existing_credits\", \"job\", \"people_liable_maintenance\", \"telephone\", \"foreign_worker\",\n",
    "        \"extra_indicator_1\", \"extra_indicator_2\", \"extra_indicator_3\", \"extra_indicator_4\",\n",
    "        \"target\"\n",
    "    ]\n",
    "# else:\n",
    "#     # Fallback: name generically\n",
    "#     cols = [f\"feature_{i}\" for i in range(1, n_cols)] + [\"target\"]\n",
    "\n",
    "\n",
    "df.columns = cols\n",
    "\n",
    "# Map target: 1 = good, 2 = bad  -> 0 = good, 1 = bad\n",
    "df[\"target\"] = df[\"target\"].map({1: 0, 2: 1})\n",
    "\n",
    "print(\"Shape:\", df.shape)\n",
    "print(\"First rows:\")\n",
    "display(df.head())\n",
    "\n",
    "print(\"\\nClass balance (0=good, 1=bad):\")\n",
    "print(df[\"target\"].value_counts(normalize=True).round(3))\n",
    "print(\"\\nMissing values per column (top 10 shown):\")\n",
    "print(df.isna().sum().sort_values(ascending=False).head(10))"
   ]
  },
  {
   "cell_type": "code",
   "execution_count": 5,
   "id": "93e13971-417e-45da-b7f7-ce3841d78cd2",
   "metadata": {},
   "outputs": [
    {
     "name": "stdout",
     "output_type": "stream",
     "text": [
      "extra_indicator_1\n",
      "extra_indicator_1\n",
      "0    287\n",
      "1    713\n",
      "Name: count, dtype: int64 \n",
      "\n",
      "extra_indicator_2\n",
      "extra_indicator_2\n",
      "0    978\n",
      "1     22\n",
      "Name: count, dtype: int64 \n",
      "\n",
      "extra_indicator_3\n",
      "extra_indicator_3\n",
      "0    800\n",
      "1    200\n",
      "Name: count, dtype: int64 \n",
      "\n",
      "extra_indicator_4\n",
      "extra_indicator_4\n",
      "0    370\n",
      "1    630\n",
      "Name: count, dtype: int64 \n",
      "\n"
     ]
    }
   ],
   "source": [
    "for c in [col for col in df.columns if col.startswith(\"extra_indicator_\")]:\n",
    "    print(c)\n",
    "    print(df[c].value_counts().sort_index(), \"\\n\")"
   ]
  },
  {
   "cell_type": "code",
   "execution_count": 6,
   "id": "8105c3d9-4db0-46f5-a6b1-a6589407382f",
   "metadata": {},
   "outputs": [
    {
     "name": "stdout",
     "output_type": "stream",
     "text": [
      "Requirement already satisfied: seaborn in /Users/hitakshikulhare/miniconda3/envs/bootcamp_env/lib/python3.10/site-packages (0.13.2)\n",
      "Requirement already satisfied: numpy!=1.24.0,>=1.20 in /Users/hitakshikulhare/miniconda3/envs/bootcamp_env/lib/python3.10/site-packages (from seaborn) (2.2.5)\n",
      "Requirement already satisfied: pandas>=1.2 in /Users/hitakshikulhare/miniconda3/envs/bootcamp_env/lib/python3.10/site-packages (from seaborn) (2.3.1)\n",
      "Requirement already satisfied: matplotlib!=3.6.1,>=3.4 in /Users/hitakshikulhare/miniconda3/envs/bootcamp_env/lib/python3.10/site-packages (from seaborn) (3.10.5)\n",
      "Requirement already satisfied: contourpy>=1.0.1 in /Users/hitakshikulhare/miniconda3/envs/bootcamp_env/lib/python3.10/site-packages (from matplotlib!=3.6.1,>=3.4->seaborn) (1.3.2)\n",
      "Requirement already satisfied: cycler>=0.10 in /Users/hitakshikulhare/miniconda3/envs/bootcamp_env/lib/python3.10/site-packages (from matplotlib!=3.6.1,>=3.4->seaborn) (0.12.1)\n",
      "Requirement already satisfied: fonttools>=4.22.0 in /Users/hitakshikulhare/miniconda3/envs/bootcamp_env/lib/python3.10/site-packages (from matplotlib!=3.6.1,>=3.4->seaborn) (4.59.1)\n",
      "Requirement already satisfied: kiwisolver>=1.3.1 in /Users/hitakshikulhare/miniconda3/envs/bootcamp_env/lib/python3.10/site-packages (from matplotlib!=3.6.1,>=3.4->seaborn) (1.4.9)\n",
      "Requirement already satisfied: packaging>=20.0 in /Users/hitakshikulhare/miniconda3/envs/bootcamp_env/lib/python3.10/site-packages (from matplotlib!=3.6.1,>=3.4->seaborn) (25.0)\n",
      "Requirement already satisfied: pillow>=8 in /Users/hitakshikulhare/miniconda3/envs/bootcamp_env/lib/python3.10/site-packages (from matplotlib!=3.6.1,>=3.4->seaborn) (11.3.0)\n",
      "Requirement already satisfied: pyparsing>=2.3.1 in /Users/hitakshikulhare/miniconda3/envs/bootcamp_env/lib/python3.10/site-packages (from matplotlib!=3.6.1,>=3.4->seaborn) (3.2.3)\n",
      "Requirement already satisfied: python-dateutil>=2.7 in /Users/hitakshikulhare/miniconda3/envs/bootcamp_env/lib/python3.10/site-packages (from matplotlib!=3.6.1,>=3.4->seaborn) (2.9.0.post0)\n",
      "Requirement already satisfied: pytz>=2020.1 in /Users/hitakshikulhare/miniconda3/envs/bootcamp_env/lib/python3.10/site-packages (from pandas>=1.2->seaborn) (2025.2)\n",
      "Requirement already satisfied: tzdata>=2022.7 in /Users/hitakshikulhare/miniconda3/envs/bootcamp_env/lib/python3.10/site-packages (from pandas>=1.2->seaborn) (2025.2)\n",
      "Requirement already satisfied: six>=1.5 in /Users/hitakshikulhare/miniconda3/envs/bootcamp_env/lib/python3.10/site-packages (from python-dateutil>=2.7->matplotlib!=3.6.1,>=3.4->seaborn) (1.17.0)\n",
      "Note: you may need to restart the kernel to use updated packages.\n"
     ]
    }
   ],
   "source": [
    "pip install seaborn"
   ]
  },
  {
   "cell_type": "code",
   "execution_count": 7,
   "id": "7dd3bd05-c643-44ed-b69e-5f5a826e6cb1",
   "metadata": {},
   "outputs": [],
   "source": [
    "import matplotlib.pyplot as plt\n",
    "import seaborn as sns\n",
    "from sklearn.model_selection import train_test_split"
   ]
  },
  {
   "cell_type": "code",
   "execution_count": 8,
   "id": "c9040bd5-cea2-40c1-a6cd-b213f20b1f90",
   "metadata": {},
   "outputs": [
    {
     "name": "stdout",
     "output_type": "stream",
     "text": [
      "Shape: (1000, 25)\n",
      "\n",
      "Data types:\n",
      " checking_status              int64\n",
      "duration_months              int64\n",
      "credit_history               int64\n",
      "purpose                      int64\n",
      "credit_amount                int64\n",
      "savings_status               int64\n",
      "employment_since             int64\n",
      "installment_rate_pct         int64\n",
      "personal_status_sex          int64\n",
      "other_debtors                int64\n",
      "residence_since              int64\n",
      "property_magnitude           int64\n",
      "age_years                    int64\n",
      "other_installment_plans      int64\n",
      "housing                      int64\n",
      "number_existing_credits      int64\n",
      "job                          int64\n",
      "people_liable_maintenance    int64\n",
      "telephone                    int64\n",
      "foreign_worker               int64\n",
      "extra_indicator_1            int64\n",
      "extra_indicator_2            int64\n",
      "extra_indicator_3            int64\n",
      "extra_indicator_4            int64\n",
      "target                       int64\n",
      "dtype: object\n",
      "\n",
      "Missing values:\n",
      " checking_status              0\n",
      "duration_months              0\n",
      "credit_history               0\n",
      "purpose                      0\n",
      "credit_amount                0\n",
      "savings_status               0\n",
      "employment_since             0\n",
      "installment_rate_pct         0\n",
      "personal_status_sex          0\n",
      "other_debtors                0\n",
      "residence_since              0\n",
      "property_magnitude           0\n",
      "age_years                    0\n",
      "other_installment_plans      0\n",
      "housing                      0\n",
      "number_existing_credits      0\n",
      "job                          0\n",
      "people_liable_maintenance    0\n",
      "telephone                    0\n",
      "foreign_worker               0\n",
      "extra_indicator_1            0\n",
      "extra_indicator_2            0\n",
      "extra_indicator_3            0\n",
      "extra_indicator_4            0\n",
      "target                       0\n",
      "dtype: int64\n",
      "\n",
      "Target distribution:\n",
      " target\n",
      "0    0.7\n",
      "1    0.3\n",
      "Name: proportion, dtype: float64\n"
     ]
    }
   ],
   "source": [
    "print(\"Shape:\", df.shape)\n",
    "print(\"\\nData types:\\n\", df.dtypes)\n",
    "print(\"\\nMissing values:\\n\", df.isna().sum())\n",
    "print(\"\\nTarget distribution:\\n\", df['target'].value_counts(normalize=True))"
   ]
  },
  {
   "cell_type": "code",
   "execution_count": 9,
   "id": "672c13a7-06a5-4b6e-821c-08112a04231c",
   "metadata": {},
   "outputs": [
    {
     "name": "stdout",
     "output_type": "stream",
     "text": [
      "duration_months: 70 outliers (bounds: -6.0, 42.0)\n",
      "credit_amount: 0 outliers (bounds: -2.0, 6.0)\n",
      "age_years: 155 outliers (bounds: 1.0, 1.0)\n"
     ]
    }
   ],
   "source": [
    "import numpy as np\n",
    "\n",
    "numeric_cols = [\"duration_months\", \"credit_amount\", \"age_years\"]\n",
    "\n",
    "for col in numeric_cols:\n",
    "    Q1 = df[col].quantile(0.25)\n",
    "    Q3 = df[col].quantile(0.75)\n",
    "    IQR = Q3 - Q1\n",
    "    lower = Q1 - 1.5 * IQR\n",
    "    upper = Q3 + 1.5 * IQR\n",
    "    outliers = ((df[col] < lower) | (df[col] > upper)).sum()\n",
    "    print(f\"{col}: {outliers} outliers (bounds: {lower:.1f}, {upper:.1f})\")"
   ]
  },
  {
   "cell_type": "code",
   "execution_count": 10,
   "id": "6252e94a-edb0-40c9-8258-6047a3d2e4ec",
   "metadata": {},
   "outputs": [
    {
     "data": {
      "image/png": "[encoded data removed]",
      "text/plain": [
       "<Figure size 640x480 with 1 Axes>"
      ]
     },
     "metadata": {},
     "output_type": "display_data"
    },
    {
     "data": {
      "image/png": "[encoded data removed]",
      "text/plain": [
       "<Figure size 640x480 with 1 Axes>"
      ]
     },
     "metadata": {},
     "output_type": "display_data"
    }
   ],
   "source": [
    "sns.histplot(df[\"credit_amount\"], kde=True)\n",
    "plt.title(\"Credit Amount Distribution (before log)\")\n",
    "plt.show()\n",
    "\n",
    "# Apply log-transform\n",
    "df[\"credit_amount_log\"] = np.log1p(df[\"credit_amount\"])\n",
    "sns.histplot(df[\"credit_amount_log\"], kde=True)\n",
    "plt.title(\"Credit Amount Distribution (after log)\")\n",
    "plt.show()"
   ]
  },
  {
   "cell_type": "code",
   "execution_count": 11,
   "id": "02410990-8d5c-4d1c-8520-919dbab8dff8",
   "metadata": {},
   "outputs": [],
   "source": [
    "from sklearn.preprocessing import StandardScaler\n",
    "\n",
    "scaler = StandardScaler()\n",
    "df[[\"duration_scaled\", \"credit_amount_scaled\", \"age_scaled\"]] = scaler.fit_transform(\n",
    "    df[[\"duration_months\", \"credit_amount_log\", \"age_years\"]]\n",
    ")"
   ]
  },
  {
   "cell_type": "code",
   "execution_count": 13,
   "id": "349cd825-02ac-471f-b3af-f998549a6044",
   "metadata": {},
   "outputs": [
    {
     "name": "stdout",
     "output_type": "stream",
     "text": [
      "Original shape: (1000, 29)\n",
      "New shape after encoding: (1000, 217)\n"
     ]
    }
   ],
   "source": [
    "categorical_cols = [\n",
    "    \"checking_status\", \"credit_history\", \"purpose\", \"savings_status\", \n",
    "    \"employment_since\", \"personal_status_sex\", \"other_debtors\", \n",
    "    \"property_magnitude\", \"other_installment_plans\", \"housing\", \n",
    "    \"job\", \"telephone\", \"foreign_worker\",\n",
    "    \"extra_indicator_1\", \"extra_indicator_2\", \n",
    "    \"extra_indicator_3\", \"extra_indicator_4\"\n",
    "]\n",
    "\n",
    "df_encoded = pd.get_dummies(df, columns=categorical_cols, drop_first=True)\n",
    "print(\"Original shape:\", df.shape)\n",
    "print(\"New shape after encoding:\", df_encoded.shape)"
   ]
  },
  {
   "cell_type": "markdown",
   "id": "b439c289-8cd2-4e6b-bba3-226ca85fd85f",
   "metadata": {},
   "source": [
    "Outliter Detection and Capping"
   ]
  },
  {
   "cell_type": "code",
   "execution_count": 14,
   "id": "4f735f14-cc76-4be4-81f7-cfdaedb74e54",
   "metadata": {},
   "outputs": [],
   "source": [
    "def cap_outliers(df, cols):\n",
    "    df_copy = df.copy()\n",
    "    for col in cols:\n",
    "        Q1 = df_copy[col].quantile(0.25)\n",
    "        Q3 = df_copy[col].quantile(0.75)\n",
    "        IQR = Q3 - Q1\n",
    "        lower = Q1 - 1.5 * IQR\n",
    "        upper = Q3 + 1.5 * IQR\n",
    "        df_copy[col] = np.where(df_copy[col] < lower, lower,\n",
    "                                np.where(df_copy[col] > upper, upper, df_copy[col]))\n",
    "    return df_copy\n",
    "\n",
    "numeric_cols = [\"duration_months\", \"credit_amount\", \"age_years\"]\n",
    "df = cap_outliers(df, numeric_cols)"
   ]
  },
  {
   "cell_type": "markdown",
   "id": "f0da485f-f8fb-4dfc-b58c-c94aaa67227f",
   "metadata": {},
   "source": [
    "FEATURE TRANSFORMATION"
   ]
  },
  {
   "cell_type": "code",
   "execution_count": 15,
   "id": "826d9246-3e67-4121-ac1f-76dbc82205c2",
   "metadata": {},
   "outputs": [],
   "source": [
    "df[\"credit_amount_log\"] = np.log1p(df[\"credit_amount\"])"
   ]
  },
  {
   "cell_type": "code",
   "execution_count": 16,
   "id": "44516f78-ac7b-45ee-a509-98f801668802",
   "metadata": {},
   "outputs": [],
   "source": [
    "scaler = StandardScaler()\n",
    "scaled_features = scaler.fit_transform(df[[\"duration_months\", \"credit_amount_log\", \"age_years\"]])\n",
    "df[[\"duration_scaled\", \"credit_amount_scaled\", \"age_scaled\"]] = scaled_features"
   ]
  },
  {
   "cell_type": "code",
   "execution_count": 17,
   "id": "67e9d0fe-9edd-41a5-8201-75cbd4588840",
   "metadata": {},
   "outputs": [],
   "source": [
    "categorical_cols = [\n",
    "    \"checking_status\", \"credit_history\", \"purpose\", \"savings_status\", \n",
    "    \"employment_since\", \"personal_status_sex\", \"other_debtors\", \n",
    "    \"property_magnitude\", \"other_installment_plans\", \"housing\", \n",
    "    \"job\", \"telephone\", \"foreign_worker\",\n",
    "    \"extra_indicator_1\", \"extra_indicator_2\", \n",
    "    \"extra_indicator_3\", \"extra_indicator_4\"\n",
    "]\n",
    "\n",
    "df_encoded = pd.get_dummies(df, columns=categorical_cols, drop_first=True)"
   ]
  },
  {
   "cell_type": "code",
   "execution_count": 18,
   "id": "a5b1c870-1d7d-4482-94ee-cb585ec51df1",
   "metadata": {},
   "outputs": [],
   "source": [
    "df_encoded[\"credit_to_duration\"] = df[\"credit_amount\"] / (df[\"duration_months\"] + 1e-6)\n",
    "df_encoded[\"installment_burden\"] = df[\"installment_rate_pct\"] / (df[\"duration_months\"] + 1e-6)\n",
    "\n",
    "df_encoded[\"age_bucket\"] = pd.cut(\n",
    "    df[\"age_years\"],\n",
    "    bins=[18, 30, 45, 60, 100],\n",
    "    labels=[\"young\", \"mid_age\", \"mature\", \"senior\"]\n",
    ")\n",
    "df_encoded = pd.get_dummies(df_encoded, columns=[\"age_bucket\"], drop_first=True)"
   ]
  },
  {
   "cell_type": "code",
   "execution_count": 19,
   "id": "1c126374-6b3c-4ac4-ad33-e504cbb95690",
   "metadata": {},
   "outputs": [
    {
     "name": "stdout",
     "output_type": "stream",
     "text": [
      "Original shape: (1000, 29)\n",
      "Encoded shape: (1000, 222)\n",
      "\n",
      "Target distribution:\n",
      " target\n",
      "0    0.7\n",
      "1    0.3\n",
      "Name: proportion, dtype: float64\n",
      "\n",
      "Sample of engineered features (first 5 rows):\n",
      "   credit_amount  duration_months  credit_to_duration  installment_burden  \\\n",
      "0            5.0              6.0            0.833333            0.666667   \n",
      "1            1.0             42.0            0.023810            0.047619   \n",
      "2            1.0             12.0            0.083333            0.250000   \n",
      "3            1.0             42.0            0.023810            0.095238   \n",
      "4            1.0             24.0            0.041667            0.166667   \n",
      "\n",
      "   age_years  \n",
      "0        1.0  \n",
      "1        1.0  \n",
      "2        1.0  \n",
      "3        1.0  \n",
      "4        1.0  \n"
     ]
    }
   ],
   "source": [
    "print(\"Original shape:\", df.shape)\n",
    "print(\"Encoded shape:\", df_encoded.shape)\n",
    "print(\"\\nTarget distribution:\\n\", df_encoded[\"target\"].value_counts(normalize=True))\n",
    "\n",
    "print(\"\\nSample of engineered features (first 5 rows):\")\n",
    "print(df_encoded[[\"credit_amount\", \"duration_months\", \"credit_to_duration\",\n",
    "                  \"installment_burden\", \"age_years\"]].head())"
   ]
  },
  {
   "cell_type": "code",
   "execution_count": 20,
   "id": "18b41a0e-cf04-4b8b-a3ff-43e1f7813683",
   "metadata": {},
   "outputs": [
    {
     "name": "stdout",
     "output_type": "stream",
     "text": [
      "\n",
      "Final feature count: 221\n"
     ]
    }
   ],
   "source": [
    "X = df_encoded.drop(\"target\", axis=1)\n",
    "y = df_encoded[\"target\"]\n",
    "\n",
    "print(\"\\nFinal feature count:\", X.shape[1])"
   ]
  },
  {
   "cell_type": "code",
   "execution_count": null,
   "id": "f28f6fa1-eb82-47f4-a24f-3281bb01c13a",
   "metadata": {},
   "outputs": [],
   "source": []
  }
 ],
 "metadata": {
  "kernelspec": {
   "display_name": "Python [conda env:bootcamp_env]",
   "language": "python",
   "name": "bootcamp_env"
  },
  "language_info": {
   "codemirror_mode": {
    "name": "ipython",
    "version": 3
   },
   "file_extension": ".py",
   "mimetype": "text/x-python",
   "name": "python",
   "nbconvert_exporter": "python",
   "pygments_lexer": "ipython3",
   "version": "3.10.18"
  }
 },
 "nbformat": 4,
 "nbformat_minor": 5
}
