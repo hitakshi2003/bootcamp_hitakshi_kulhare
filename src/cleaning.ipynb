{
 "cells": [
  {
   "cell_type": "code",
   "execution_count": null,
   "id": "b4a9c946-6b9e-45d4-a47b-9f4833008e49",
   "metadata": {},
   "outputs": [],
   "source": [
    "# src/cleaning.py\n",
    "\n",
    "import pandas as pd\n",
    "from sklearn.preprocessing import MinMaxScaler\n",
    "\n",
    "def fill_missing_median(df: pd.DataFrame, columns: list) -> pd.DataFrame:\n",
    "    \"\"\"\n",
    "    Fill missing values in specified columns with the median of each column.\n",
    "    \"\"\"\n",
    "    for col in columns:\n",
    "        if col in df.columns:\n",
    "            median_value = df[col].median()\n",
    "            df[col] = df[col].fillna(median_value)\n",
    "    return df\n",
    "\n",
    "def drop_missing(df: pd.DataFrame, threshold: float = 0.5) -> pd.DataFrame:\n",
    "    \"\"\"\n",
    "    Drop columns with more than 'threshold' proportion of missing values.\n",
    "    \"\"\"\n",
    "    missing_ratio = df.isnull().mean()\n",
    "    cols_to_drop = missing_ratio[missing_ratio > threshold].index\n",
    "    df = df.drop(columns=cols_to_drop)\n",
    "    return df\n",
    "\n",
    "def normalize_data(df: pd.DataFrame, columns: list) -> pd.DataFrame:\n",
    "    \"\"\"\n",
    "    Normalize specified columns using Min-Max Scaling.\n",
    "    \"\"\"\n",
    "    scaler = MinMaxScaler()\n",
    "    df[columns] = scaler.fit_transform(df[columns])\n",
    "    return df"
   ]
  },
  {
   "cell_type": "code",
   "execution_count": null,
   "id": "bf8553b0-c847-4ed8-9dd9-687f435cd29e",
   "metadata": {},
   "outputs": [],
   "source": []
  }
 ],
 "metadata": {
  "kernelspec": {
   "display_name": "Python [conda env:bootcamp_env]",
   "language": "python",
   "name": "bootcamp_env"
  },
  "language_info": {
   "codemirror_mode": {
    "name": "ipython",
    "version": 3
   },
   "file_extension": ".py",
   "mimetype": "text/x-python",
   "name": "python",
   "nbconvert_exporter": "python",
   "pygments_lexer": "ipython3",
   "version": "3.10.18"
  }
 },
 "nbformat": 4,
 "nbformat_minor": 5
}
