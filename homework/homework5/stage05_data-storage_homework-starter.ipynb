{
 "cells": [
  {
   "cell_type": "code",
   "execution_count": 1,
   "id": "ff80f885-9a82-49a5-abd6-e9a6c260eade",
   "metadata": {},
   "outputs": [],
   "source": [
    "import os\n",
    "import pandas as pd\n",
    "from dotenv import load_dotenv\n",
    "from datetime import datetime\n",
    "\n",
    "load_dotenv()\n",
    "\n",
    "RAW_PATH = os.getenv(\"DATA_DIR_RAW\")\n",
    "PROCESSED_PATH = os.getenv(\"DATA_DIR_PROCESSED\")"
   ]
  },
  {
   "cell_type": "code",
   "execution_count": 2,
   "id": "04960dcd-ccdc-43cd-991e-51901a97030d",
   "metadata": {},
   "outputs": [],
   "source": [
    "df = pd.DataFrame({\n",
    "    'date': pd.date_range('2023-01-01', periods=5),\n",
    "    'price': [100, 101.5, 102.3, 99.8, 98.6],\n",
    "    'volume': [200, 210, 190, 230, 220]\n",
    "})"
   ]
  },
  {
   "cell_type": "code",
   "execution_count": 3,
   "id": "f09f843f-2682-466a-bf18-1a173ed4ee84",
   "metadata": {},
   "outputs": [
    {
     "name": "stdout",
     "output_type": "stream",
     "text": [
      "CSV saved to: data/raw/sample_20250817-1319.csv\n",
      "Parquet saved to: data/processed/sample_20250817-1319.parquet\n"
     ]
    }
   ],
   "source": [
    "timestamp = datetime.now().strftime(\"%Y%m%d-%H%M\")\n",
    "csv_path = f\"{RAW_PATH}/sample_{timestamp}.csv\"\n",
    "parquet_path = f\"{PROCESSED_PATH}/sample_{timestamp}.parquet\"\n",
    "\n",
    "df.to_csv(csv_path, index=False)\n",
    "df.to_parquet(parquet_path, index=False)\n",
    "\n",
    "print(\"CSV saved to:\", csv_path)\n",
    "print(\"Parquet saved to:\", parquet_path)\n"
   ]
  },
  {
   "cell_type": "code",
   "execution_count": 7,
   "id": "d24cb6be-dfb4-4858-9bae-0b6ffd920497",
   "metadata": {},
   "outputs": [
    {
     "name": "stdout",
     "output_type": "stream",
     "text": [
      "Shape CSV: (5, 3)\n",
      "Shape Parquet: (5, 3)\n",
      "Dtypes CSV:\n",
      " date       object\n",
      "price     float64\n",
      "volume      int64\n",
      "dtype: object\n",
      "Dtypes Parquet:\n",
      " date      datetime64[ns]\n",
      "price            float64\n",
      "volume             int64\n",
      "dtype: object\n",
      "Validation result: True\n"
     ]
    }
   ],
   "source": [
    "df_csv = pd.read_csv(csv_path)\n",
    "df_parquet = pd.read_parquet(parquet_path)\n",
    "\n",
    "print(\"Shape CSV:\", df_csv.shape)\n",
    "print(\"Shape Parquet:\", df_parquet.shape)\n",
    "print(\"Dtypes CSV:\\n\", df_csv.dtypes)\n",
    "print(\"Dtypes Parquet:\\n\", df_parquet.dtypes)\n",
    "\n",
    "def validate_df(df1, df2):\n",
    "    return df1.shape == df2.shape and all(df1.columns == df2.columns)\n",
    "\n",
    "print(\"Validation result:\", validate_df(df_csv, df_parquet))\n"
   ]
  },
  {
   "cell_type": "code",
   "execution_count": 8,
   "id": "46532128-5ac7-46c9-9cc3-d208c2900a4e",
   "metadata": {},
   "outputs": [],
   "source": [
    "def write_df(df, path):\n",
    "    os.makedirs(os.path.dirname(path), exist_ok=True)\n",
    "    ext = path.split(\".\")[-1]\n",
    "    if ext == \"csv\":\n",
    "        df.to_csv(path, index=False)\n",
    "    elif ext == \"parquet\":\n",
    "        try:\n",
    "            df.to_parquet(path, index=False)\n",
    "        except ImportError:\n",
    "            print(\"Install pyarrow or fastparquet to use Parquet.\")\n",
    "    else:\n",
    "        raise ValueError(\"Unsupported file type.\")\n",
    "\n",
    "def read_df(path):\n",
    "    ext = path.split(\".\")[-1]\n",
    "    if ext == \"csv\":\n",
    "        return pd.read_csv(path)\n",
    "    elif ext == \"parquet\":\n",
    "        try:\n",
    "            return pd.read_parquet(path)\n",
    "        except ImportError:\n",
    "            print(\"Install pyarrow or fastparquet to read Parquet.\")\n",
    "    else:\n",
    "        raise ValueError(\"Unsupported file type.\")\n"
   ]
  },
  {
   "cell_type": "code",
   "execution_count": 9,
   "id": "7173907e-2212-4f3d-9524-0d9d5eae47d7",
   "metadata": {},
   "outputs": [
    {
     "name": "stdout",
     "output_type": "stream",
     "text": [
      "Utility read/write test passed: True\n"
     ]
    }
   ],
   "source": [
    "write_df(df, f\"{RAW_PATH}/test.csv\")\n",
    "write_df(df, f\"{PROCESSED_PATH}/test.parquet\")\n",
    "\n",
    "df1 = read_df(f\"{RAW_PATH}/test.csv\")\n",
    "df2 = read_df(f\"{PROCESSED_PATH}/test.parquet\")\n",
    "\n",
    "print(\"Utility read/write test passed:\", validate_df(df1, df2))\n"
   ]
  },
  {
   "cell_type": "code",
   "execution_count": null,
   "id": "7670e078-1154-4df4-a31f-b4d5e89fdc25",
   "metadata": {},
   "outputs": [],
   "source": []
  }
 ],
 "metadata": {
  "kernelspec": {
   "display_name": "Python [conda env:bootcamp_env]",
   "language": "python",
   "name": "bootcamp_env"
  },
  "language_info": {
   "codemirror_mode": {
    "name": "ipython",
    "version": 3
   },
   "file_extension": ".py",
   "mimetype": "text/x-python",
   "name": "python",
   "nbconvert_exporter": "python",
   "pygments_lexer": "ipython3",
   "version": "3.10.18"
  }
 },
 "nbformat": 4,
 "nbformat_minor": 5
}
