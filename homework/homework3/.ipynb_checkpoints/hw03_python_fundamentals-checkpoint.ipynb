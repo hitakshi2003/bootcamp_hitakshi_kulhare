{
 "cells": [
  {
   "cell_type": "code",
   "execution_count": 3,
   "id": "08c26a66-90d2-4ae2-b374-7135710dd7d9",
   "metadata": {},
   "outputs": [
    {
     "name": "stdout",
     "output_type": "stream",
     "text": [
      "Requirement already satisfied: pandas in /Users/hitakshikulhare/miniconda3/envs/bootcamp_env/lib/python3.10/site-packages (2.3.1)\n",
      "Requirement already satisfied: numpy>=1.22.4 in /Users/hitakshikulhare/miniconda3/envs/bootcamp_env/lib/python3.10/site-packages (from pandas) (2.2.6)\n",
      "Requirement already satisfied: python-dateutil>=2.8.2 in /Users/hitakshikulhare/miniconda3/envs/bootcamp_env/lib/python3.10/site-packages (from pandas) (2.9.0.post0)\n",
      "Requirement already satisfied: pytz>=2020.1 in /Users/hitakshikulhare/miniconda3/envs/bootcamp_env/lib/python3.10/site-packages (from pandas) (2025.2)\n",
      "Requirement already satisfied: tzdata>=2022.7 in /Users/hitakshikulhare/miniconda3/envs/bootcamp_env/lib/python3.10/site-packages (from pandas) (2025.2)\n",
      "Requirement already satisfied: six>=1.5 in /Users/hitakshikulhare/miniconda3/envs/bootcamp_env/lib/python3.10/site-packages (from python-dateutil>=2.8.2->pandas) (1.17.0)\n",
      "Note: you may need to restart the kernel to use updated packages.\n"
     ]
    }
   ],
   "source": [
    "pip install pandas"
   ]
  },
  {
   "cell_type": "code",
   "execution_count": 4,
   "id": "3b885307-6cbe-41d6-acfd-bf769a9f0c45",
   "metadata": {},
   "outputs": [
    {
     "name": "stdout",
     "output_type": "stream",
     "text": [
      "  category  value        date\n",
      "0        A     10  2025-08-01\n",
      "1        B     15  2025-08-02\n",
      "2        A     12  2025-08-03\n",
      "3        B     18  2025-08-04\n",
      "4        C     25  2025-08-05\n"
     ]
    }
   ],
   "source": [
    "import pandas as pd\n",
    "file_path = '/Users/hitakshikulhare/Downloads/starter_data.csv'\n",
    "\n",
    "data = pd.read_csv(file_path)\n",
    "print(data.head())"
   ]
  },
  {
   "cell_type": "code",
   "execution_count": 5,
   "id": "c9c51a21-26e9-4e11-ae0b-139db9bf2f7b",
   "metadata": {},
   "outputs": [
    {
     "name": "stdout",
     "output_type": "stream",
     "text": [
      "<class 'pandas.core.frame.DataFrame'>\n",
      "RangeIndex: 10 entries, 0 to 9\n",
      "Data columns (total 3 columns):\n",
      " #   Column    Non-Null Count  Dtype \n",
      "---  ------    --------------  ----- \n",
      " 0   category  10 non-null     object\n",
      " 1   value     10 non-null     int64 \n",
      " 2   date      10 non-null     object\n",
      "dtypes: int64(1), object(2)\n",
      "memory usage: 368.0+ bytes\n",
      "None\n"
     ]
    }
   ],
   "source": [
    "print(data.info())"
   ]
  },
  {
   "cell_type": "code",
   "execution_count": 6,
   "id": "0c388a3a-20ed-493e-9d33-8b298038b544",
   "metadata": {},
   "outputs": [
    {
     "name": "stdout",
     "output_type": "stream",
     "text": [
      "           value\n",
      "count  10.000000\n",
      "mean   17.600000\n",
      "std     7.381659\n",
      "min    10.000000\n",
      "25%    12.250000\n",
      "50%    14.500000\n",
      "75%    23.250000\n",
      "max    30.000000\n"
     ]
    }
   ],
   "source": [
    "numeric_stats = data.describe()\n",
    "print(numeric_stats)"
   ]
  },
  {
   "cell_type": "code",
   "execution_count": 7,
   "id": "d0757c2c-0bb5-4228-a2a1-7f96462e4c0f",
   "metadata": {},
   "outputs": [
    {
     "name": "stdout",
     "output_type": "stream",
     "text": [
      "Numeric columns: ['value']\n"
     ]
    }
   ],
   "source": [
    "numeric_columns = data.select_dtypes(include=['number']).columns\n",
    "print(\"Numeric columns:\", numeric_columns.tolist())"
   ]
  },
  {
   "cell_type": "code",
   "execution_count": 8,
   "id": "0358cd33-aa4c-4baa-9a50-7dd32291fd3c",
   "metadata": {},
   "outputs": [
    {
     "name": "stdout",
     "output_type": "stream",
     "text": [
      "           value\n",
      "count  10.000000\n",
      "mean   17.600000\n",
      "std     7.381659\n",
      "min    10.000000\n",
      "25%    12.250000\n",
      "50%    14.500000\n",
      "75%    23.250000\n",
      "max    30.000000\n",
      "         value                                                     \n",
      "         count       mean       std   min    25%   50%    75%   max\n",
      "category                                                           \n",
      "A          4.0  11.500000  1.290994  10.0  10.75  11.5  12.25  13.0\n",
      "B          3.0  15.666667  2.081666  14.0  14.50  15.0  16.50  18.0\n",
      "C          3.0  27.666667  2.516611  25.0  26.50  28.0  29.00  30.0\n"
     ]
    }
   ],
   "source": [
    "# specific_stats = data[['category', 'value']].describe()\n",
    "# print(specific_stats)if 'category' in data.category:  # Check if column exists\n",
    "#     grouped_stats = data.groupby('category').describe()\n",
    "#     print(grouped_stats)\n",
    "    \n",
    "#     # Mean by category\n",
    "#     print(\"\\nMean values by category:\")\n",
    "#     print(data.groupby('category').mean())\n",
    "\n",
    "specific_stats = data[['category', 'value']].describe()\n",
    "print(specific_stats)\n",
    "\n",
    "# Group by category if it exists\n",
    "if 'category' in data.columns:\n",
    "    grouped_stats = data.groupby('category').describe()\n",
    "    print(grouped_stats)\n",
    "    \n",
    "    "
   ]
  },
  {
   "cell_type": "code",
   "execution_count": 12,
   "id": "5a777922-015e-46a7-9cbc-77eceb3a6515",
   "metadata": {},
   "outputs": [
    {
     "name": "stdout",
     "output_type": "stream",
     "text": [
      "Collecting matplotlib\n",
      "  Downloading matplotlib-3.10.5-cp310-cp310-macosx_11_0_arm64.whl.metadata (11 kB)\n",
      "Collecting contourpy>=1.0.1 (from matplotlib)\n",
      "  Downloading contourpy-1.3.2-cp310-cp310-macosx_11_0_arm64.whl.metadata (5.5 kB)\n",
      "Collecting cycler>=0.10 (from matplotlib)\n",
      "  Downloading cycler-0.12.1-py3-none-any.whl.metadata (3.8 kB)\n",
      "Collecting fonttools>=4.22.0 (from matplotlib)\n",
      "  Downloading fonttools-4.59.1-cp310-cp310-macosx_10_9_universal2.whl.metadata (108 kB)\n",
      "Collecting kiwisolver>=1.3.1 (from matplotlib)\n",
      "  Downloading kiwisolver-1.4.9-cp310-cp310-macosx_11_0_arm64.whl.metadata (6.3 kB)\n",
      "Requirement already satisfied: numpy>=1.23 in /Users/hitakshikulhare/miniconda3/envs/bootcamp_env/lib/python3.10/site-packages (from matplotlib) (2.2.6)\n",
      "Requirement already satisfied: packaging>=20.0 in /Users/hitakshikulhare/miniconda3/envs/bootcamp_env/lib/python3.10/site-packages (from matplotlib) (25.0)\n",
      "Collecting pillow>=8 (from matplotlib)\n",
      "  Downloading pillow-11.3.0-cp310-cp310-macosx_11_0_arm64.whl.metadata (9.0 kB)\n",
      "Collecting pyparsing>=2.3.1 (from matplotlib)\n",
      "  Downloading pyparsing-3.2.3-py3-none-any.whl.metadata (5.0 kB)\n",
      "Requirement already satisfied: python-dateutil>=2.7 in /Users/hitakshikulhare/miniconda3/envs/bootcamp_env/lib/python3.10/site-packages (from matplotlib) (2.9.0.post0)\n",
      "Requirement already satisfied: six>=1.5 in /Users/hitakshikulhare/miniconda3/envs/bootcamp_env/lib/python3.10/site-packages (from python-dateutil>=2.7->matplotlib) (1.17.0)\n",
      "Downloading matplotlib-3.10.5-cp310-cp310-macosx_11_0_arm64.whl (8.1 MB)\n",
      "\u001b[2K   \u001b[90m━━━━━━━━━━━━━━━━━━━━━━━━━━━━━━━━━━━━━━━━\u001b[0m \u001b[32m8.1/8.1 MB\u001b[0m \u001b[31m50.2 MB/s\u001b[0m eta \u001b[36m0:00:00\u001b[0m\n",
      "\u001b[?25hDownloading contourpy-1.3.2-cp310-cp310-macosx_11_0_arm64.whl (253 kB)\n",
      "Downloading cycler-0.12.1-py3-none-any.whl (8.3 kB)\n",
      "Downloading fonttools-4.59.1-cp310-cp310-macosx_10_9_universal2.whl (2.8 MB)\n",
      "\u001b[2K   \u001b[90m━━━━━━━━━━━━━━━━━━━━━━━━━━━━━━━━━━━━━━━━\u001b[0m \u001b[32m2.8/2.8 MB\u001b[0m \u001b[31m50.0 MB/s\u001b[0m eta \u001b[36m0:00:00\u001b[0m\n",
      "\u001b[?25hDownloading kiwisolver-1.4.9-cp310-cp310-macosx_11_0_arm64.whl (65 kB)\n",
      "Downloading pillow-11.3.0-cp310-cp310-macosx_11_0_arm64.whl (4.7 MB)\n",
      "\u001b[2K   \u001b[90m━━━━━━━━━━━━━━━━━━━━━━━━━━━━━━━━━━━━━━━━\u001b[0m \u001b[32m4.7/4.7 MB\u001b[0m \u001b[31m52.4 MB/s\u001b[0m eta \u001b[36m0:00:00\u001b[0m\n",
      "\u001b[?25hDownloading pyparsing-3.2.3-py3-none-any.whl (111 kB)\n",
      "Installing collected packages: pyparsing, pillow, kiwisolver, fonttools, cycler, contourpy, matplotlib\n",
      "\u001b[2K   \u001b[90m━━━━━━━━━━━━━━━━━━━━━━━━━━━━━━━━━━━━━━━━\u001b[0m \u001b[32m7/7\u001b[0m [matplotlib]7\u001b[0m [matplotlib]\n",
      "\u001b[1A\u001b[2KSuccessfully installed contourpy-1.3.2 cycler-0.12.1 fonttools-4.59.1 kiwisolver-1.4.9 matplotlib-3.10.5 pillow-11.3.0 pyparsing-3.2.3\n",
      "Note: you may need to restart the kernel to use updated packages.\n"
     ]
    }
   ],
   "source": [
    "pip install matplotlib"
   ]
  },
  {
   "cell_type": "code",
   "execution_count": null,
   "id": "0c4e2014-d3a8-47fd-9bf7-8c495571a8ec",
   "metadata": {},
   "outputs": [],
   "source": [
    "import pandas as pd\n",
    "import os\n",
    "import json\n",
    "import matplotlib.pyplot as plt\n",
    "\n",
    "# File path to CSV\n",
    "file_path = os.path.join(os.path.expanduser(\"~\"), \"Downloads\", \"starter_data.csv\")\n",
    "\n",
    "# Load your data\n",
    "data = pd.read_csv(file_path)\n",
    "\n",
    "# Create the processed data directory if it doesn't exist\n",
    "os.makedirs('data/processed', exist_ok=True)\n",
    "\n",
    "# Get summary statistics\n",
    "summary_stats = data.describe()\n",
    "\n",
    "# Save to CSV\n",
    "summary_csv_path = 'data/processed/summary.csv'\n",
    "summary_stats.to_csv(summary_csv_path)\n",
    "\n",
    "# Save to JSON\n",
    "summary_json_path = 'data/processed/summary.json'\n",
    "summary_stats.to_json(summary_json_path, orient=\"index\")\n",
    "\n",
    "print(f\"Summary statistics saved to: {summary_csv_path} and {summary_json_path}\")\n",
    "\n",
    "# BONUS: Create and save a basic plot (histogram for all numeric columns)\n",
    "plot_path = 'data/processed/summary_plot.png'\n",
    "data.hist(figsize=(10, 8))\n",
    "plt.tight_layout()\n",
    "plt.savefig(plot_path)\n",
    "plt.close()\n",
    "\n",
    "print(f\"Basic plot saved to: {plot_path}\")\n"
   ]
  },
  {
   "cell_type": "code",
   "execution_count": null,
   "id": "452932e8-f1ab-4aca-b273-95ee53c8cd4c",
   "metadata": {},
   "outputs": [],
   "source": []
  },
  {
   "cell_type": "code",
   "execution_count": null,
   "id": "86fef125-f6c6-441f-8ed1-0b4ad505df0a",
   "metadata": {},
   "outputs": [],
   "source": []
  }
 ],
 "metadata": {
  "kernelspec": {
   "display_name": "Python [conda env:bootcamp_env]",
   "language": "python",
   "name": "bootcamp_env"
  },
  "language_info": {
   "codemirror_mode": {
    "name": "ipython",
    "version": 3
   },
   "file_extension": ".py",
   "mimetype": "text/x-python",
   "name": "python",
   "nbconvert_exporter": "python",
   "pygments_lexer": "ipython3",
   "version": "3.10.18"
  }
 },
 "nbformat": 4,
 "nbformat_minor": 5
}
