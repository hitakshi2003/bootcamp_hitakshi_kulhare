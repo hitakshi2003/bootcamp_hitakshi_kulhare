{
 "cells": [
  {
   "cell_type": "code",
   "execution_count": 2,
   "id": "37f44c69-b1b7-4e37-aedf-216a69254de3",
   "metadata": {},
   "outputs": [
    {
     "name": "stdout",
     "output_type": "stream",
     "text": [
      "src path: /Users/hitakshikulhare/bootcamp_hitakshi_kulhare/src\n",
      "Files in src: ['cleaning.ipynb', 'config.py', '.gitkeep', '.ipynb_checkpoints']\n"
     ]
    }
   ],
   "source": [
    "import os\n",
    "\n",
    "print(\"src path:\", os.path.join(os.getcwd(), \"src\"))\n",
    "print(\"Files in src:\", os.listdir(os.path.join(os.getcwd(), \"src\")))"
   ]
  },
  {
   "cell_type": "code",
   "execution_count": 4,
   "id": "541d86bf-32b8-4685-acbd-4efcd1a17802",
   "metadata": {},
   "outputs": [],
   "source": [
    "import sys\n",
    "import os\n",
    "import pandas as pd\n",
    "\n",
    "# Automatically detect the current working directory of the notebook\n",
    "notebook_dir = os.getcwd()\n",
    "\n",
    "# Build the full path to the 'src' directory inside the current folder\n",
    "src_path = os.path.join(notebook_dir, 'src')\n",
    "\n",
    "# Add it to the system path (if not already there)\n",
    "\n",
    "src_path = os.path.join(os.getcwd(), 'src')\n",
    "if src_path not in sys.path:\n",
    "    sys.path.append(src_path)\n",
    "\n",
    "\n",
    "from cleaning import fill_missing_median, drop_missing, normalize_data"
   ]
  },
  {
   "cell_type": "code",
   "execution_count": 6,
   "id": "d008cc14-f48c-4c5e-aa16-d3f2b2e1067e",
   "metadata": {},
   "outputs": [
    {
     "data": {
      "text/html": [
       "<div>\n",
       "<style scoped>\n",
       "    .dataframe tbody tr th:only-of-type {\n",
       "        vertical-align: middle;\n",
       "    }\n",
       "\n",
       "    .dataframe tbody tr th {\n",
       "        vertical-align: top;\n",
       "    }\n",
       "\n",
       "    .dataframe thead th {\n",
       "        text-align: right;\n",
       "    }\n",
       "</style>\n",
       "<table border=\"1\" class=\"dataframe\">\n",
       "  <thead>\n",
       "    <tr style=\"text-align: right;\">\n",
       "      <th></th>\n",
       "      <th>date</th>\n",
       "      <th>ticker</th>\n",
       "      <th>price</th>\n",
       "    </tr>\n",
       "  </thead>\n",
       "  <tbody>\n",
       "    <tr>\n",
       "      <th>0</th>\n",
       "      <td>2025-05-09</td>\n",
       "      <td>AAPL</td>\n",
       "      <td>100.094117</td>\n",
       "    </tr>\n",
       "    <tr>\n",
       "      <th>1</th>\n",
       "      <td>2025-05-10</td>\n",
       "      <td>AAPL</td>\n",
       "      <td>98.836087</td>\n",
       "    </tr>\n",
       "    <tr>\n",
       "      <th>2</th>\n",
       "      <td>2025-05-11</td>\n",
       "      <td>AAPL</td>\n",
       "      <td>99.278867</td>\n",
       "    </tr>\n",
       "    <tr>\n",
       "      <th>3</th>\n",
       "      <td>2025-05-12</td>\n",
       "      <td>AAPL</td>\n",
       "      <td>99.008237</td>\n",
       "    </tr>\n",
       "    <tr>\n",
       "      <th>4</th>\n",
       "      <td>2025-05-13</td>\n",
       "      <td>AAPL</td>\n",
       "      <td>98.355203</td>\n",
       "    </tr>\n",
       "  </tbody>\n",
       "</table>\n",
       "</div>"
      ],
      "text/plain": [
       "         date ticker       price\n",
       "0  2025-05-09   AAPL  100.094117\n",
       "1  2025-05-10   AAPL   98.836087\n",
       "2  2025-05-11   AAPL   99.278867\n",
       "3  2025-05-12   AAPL   99.008237\n",
       "4  2025-05-13   AAPL   98.355203"
      ]
     },
     "execution_count": 6,
     "metadata": {},
     "output_type": "execute_result"
    }
   ],
   "source": [
    "df = pd.read_csv('homework/homework5/data/raw/sample_20250819-202307.csv')\n",
    "df.head()"
   ]
  },
  {
   "cell_type": "code",
   "execution_count": 12,
   "id": "331534c8-c876-4fdd-94b8-ccb40a866d02",
   "metadata": {},
   "outputs": [
    {
     "name": "stdout",
     "output_type": "stream",
     "text": [
      "Normalized Price Column:\n",
      "         date     price\n",
      "0  2025-05-09  1.000000\n",
      "1  2025-05-10  0.796900\n",
      "2  2025-05-11  0.868384\n",
      "3  2025-05-12  0.824692\n",
      "4  2025-05-13  0.719265\n",
      "5  2025-05-14  0.830729\n",
      "6  2025-05-15  0.936978\n",
      "7  2025-05-16  0.971127\n",
      "8  2025-05-17  0.991386\n",
      "9  2025-05-18  0.609865\n",
      "\n",
      "Price Change:\n",
      "         date  price_change\n",
      "0  2025-05-09      0.567855\n",
      "1  2025-05-10      0.289752\n",
      "2  2025-05-11      0.735670\n",
      "3  2025-05-12      0.548628\n",
      "4  2025-05-13      0.448369\n",
      "5  2025-05-14      0.800598\n",
      "6  2025-05-15      0.792127\n",
      "7  2025-05-16      0.675039\n",
      "8  2025-05-17      0.652482\n",
      "9  2025-05-18      0.000000\n",
      "\n",
      "Percentage Return:\n",
      "         date  pct_return\n",
      "0  2025-05-09    0.528376\n",
      "1  2025-05-10    0.462237\n",
      "2  2025-05-11    0.632075\n",
      "3  2025-05-12    0.550860\n",
      "4  2025-05-13    0.505892\n",
      "5  2025-05-14    0.669934\n",
      "6  2025-05-15    0.654230\n",
      "7  2025-05-16    0.601184\n",
      "8  2025-05-17    0.592144\n",
      "9  2025-05-18    0.356822\n",
      "\n",
      "7-day Rolling Mean:\n",
      "         date  rolling_mean_7\n",
      "0  2025-05-09        0.707342\n",
      "1  2025-05-10        0.707342\n",
      "2  2025-05-11        0.707342\n",
      "3  2025-05-12        0.707342\n",
      "4  2025-05-13        0.707342\n",
      "5  2025-05-14        0.707342\n",
      "6  2025-05-15        0.968009\n",
      "7  2025-05-16        0.962432\n",
      "8  2025-05-17        1.000000\n",
      "9  2025-05-18        0.950063\n",
      "\n",
      "7-day Rolling Std Dev (Volatility):\n",
      "         date  rolling_std_7\n",
      "0  2025-05-09       0.295707\n",
      "1  2025-05-10       0.295707\n",
      "2  2025-05-11       0.295707\n",
      "3  2025-05-12       0.295707\n",
      "4  2025-05-13       0.295707\n",
      "5  2025-05-14       0.295707\n",
      "6  2025-05-15       0.047210\n",
      "7  2025-05-16       0.019104\n",
      "8  2025-05-17       0.061429\n",
      "9  2025-05-18       0.231177\n",
      "\n",
      "Price vs Rolling Mean:\n",
      "         date  price_vs_mean\n",
      "0  2025-05-09       0.608721\n",
      "1  2025-05-10       0.608721\n",
      "2  2025-05-11       0.608721\n",
      "3  2025-05-12       0.608721\n",
      "4  2025-05-13       0.608721\n",
      "5  2025-05-14       0.608721\n",
      "6  2025-05-15       0.938644\n",
      "7  2025-05-16       1.000000\n",
      "8  2025-05-17       0.987938\n",
      "9  2025-05-18       0.435531\n"
     ]
    }
   ],
   "source": [
    "# Feature Engineering\n",
    "df['price_change'] = df['price'].diff()\n",
    "df['pct_return'] = df['price'].pct_change()\n",
    "df['rolling_mean_7'] = df['price'].rolling(window=7).mean()\n",
    "df['rolling_std_7'] = df['price'].rolling(window=7).std()\n",
    "df['price_vs_mean'] = df['price'] - df['rolling_mean_7']\n",
    "\n",
    "df.replace([float('inf'), float('-inf')], float('nan'), inplace=True)\n",
    "\n",
    "df = fill_missing_median(df, ['price_change', 'pct_return', 'rolling_mean_7', 'rolling_std_7', 'price_vs_mean'])\n",
    "\n",
    "df = normalize_data(df, ['price', 'price_change', 'pct_return', 'rolling_mean_7', 'rolling_std_7', 'price_vs_mean'])\n",
    "\n",
    "print(\"Normalized Price Column:\")\n",
    "print(df[['date', 'price']].head(10))\n",
    "\n",
    "print(\"\\nPrice Change:\")\n",
    "print(df[['date', 'price_change']].head(10))\n",
    "\n",
    "print(\"\\nPercentage Return:\")\n",
    "print(df[['date', 'pct_return']].head(10))\n",
    "\n",
    "print(\"\\n7-day Rolling Mean:\")\n",
    "print(df[['date', 'rolling_mean_7']].head(10))\n",
    "\n",
    "print(\"\\n7-day Rolling Std Dev (Volatility):\")\n",
    "print(df[['date', 'rolling_std_7']].head(10))\n",
    "\n",
    "print(\"\\nPrice vs Rolling Mean:\")\n",
    "print(df[['date', 'price_vs_mean']].head(10))"
   ]
  },
  {
   "cell_type": "code",
   "execution_count": 13,
   "id": "4a412700-fa9f-4d44-9281-924f14b960a0",
   "metadata": {},
   "outputs": [],
   "source": [
    "# Step 1: Fill missing prices with median\n",
    "df = fill_missing_median(df, ['price'])\n",
    "\n",
    "# Step 2: Drop any column with more than 50% missing values (optional here, but safe)\n",
    "df = drop_missing(df, threshold=0.5)\n",
    "\n",
    "# Step 3: Normalize only the 'price' column\n",
    "df = normalize_data(df, ['price'])"
   ]
  },
  {
   "cell_type": "code",
   "execution_count": 14,
   "id": "1433b85c-85c3-4fa3-b20f-ef29ba1b695e",
   "metadata": {},
   "outputs": [
    {
     "data": {
      "text/plain": [
       "date              0\n",
       "ticker            0\n",
       "price             0\n",
       "price_change      0\n",
       "pct_return        0\n",
       "rolling_mean_7    0\n",
       "rolling_std_7     0\n",
       "price_vs_mean     0\n",
       "dtype: int64"
      ]
     },
     "execution_count": 14,
     "metadata": {},
     "output_type": "execute_result"
    }
   ],
   "source": [
    "df.isnull().sum()"
   ]
  },
  {
   "cell_type": "code",
   "execution_count": 21,
   "id": "21d0bb43-2f99-416d-b292-798261bb568f",
   "metadata": {},
   "outputs": [
    {
     "name": "stdout",
     "output_type": "stream",
     "text": [
      "Saved to: /Users/hitakshikulhare/bootcamp_hitakshi_kulhare/data/processed/sample_data_cleaned.csv\n",
      "Contents of data folder: ['summary.json', 'summary.csv', 'sample_data_cleaned.csv', 'summary_plot.png']\n"
     ]
    }
   ],
   "source": [
    "save_path = '/Users/hitakshikulhare/bootcamp_hitakshi_kulhare/data/processed'\n",
    "os.makedirs(save_path, exist_ok=True)\n",
    "\n",
    "# Save the file\n",
    "csv_path = os.path.join(save_path, 'sample_data_cleaned.csv')\n",
    "df.to_csv(csv_path, index=False)\n",
    "\n",
    "print(\"Saved to:\", csv_path)\n",
    "print(\"Contents of data folder:\", os.listdir(save_path))"
   ]
  },
  {
   "cell_type": "code",
   "execution_count": 20,
   "id": "3ed5e15f-3ef6-4996-a807-973f940e4892",
   "metadata": {},
   "outputs": [
    {
     "name": "stdout",
     "output_type": "stream",
     "text": [
      "File saved to: /Users/hitakshikulhare/bootcamp_hitakshi_kulhare/data/sample_data_cleaned.csv\n"
     ]
    }
   ],
   "source": [
    "print(\"File saved to:\", os.path.abspath(os.path.join(save_path, 'sample_data_cleaned.csv')))"
   ]
  },
  {
   "cell_type": "code",
   "execution_count": null,
   "id": "b51266ec-9b47-431f-aa33-5ce6b77a6b79",
   "metadata": {},
   "outputs": [],
   "source": []
  }
 ],
 "metadata": {
  "kernelspec": {
   "display_name": "Python [conda env:bootcamp_env]",
   "language": "python",
   "name": "bootcamp_env"
  },
  "language_info": {
   "codemirror_mode": {
    "name": "ipython",
    "version": 3
   },
   "file_extension": ".py",
   "mimetype": "text/x-python",
   "name": "python",
   "nbconvert_exporter": "python",
   "pygments_lexer": "ipython3",
   "version": "3.10.18"
  }
 },
 "nbformat": 4,
 "nbformat_minor": 5
}
