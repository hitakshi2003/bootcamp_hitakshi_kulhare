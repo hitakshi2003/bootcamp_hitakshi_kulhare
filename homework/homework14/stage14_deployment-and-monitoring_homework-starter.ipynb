{
 "cells": [
  {
   "cell_type": "markdown",
   "id": "1c1e8def",
   "metadata": {},
   "source": [
    "# Homework Starter — Stage 14: Deployment & Monitoring\n",
    "\n",
    "Use this template to draft your reflection and (optionally) sketch a dashboard."
   ]
  },
  {
   "cell_type": "markdown",
   "id": "d48f0332",
   "metadata": {},
   "source": [
    "## 1) Reflection (200–300 words)\n",
    "\n",
    "## Reflections\n",
    "\n",
    "### What went well\n",
    "- **Clear API surface**: Endpoints were kept minimal (`/health`, `/predict`, `/plot`), which made testing and handoff straightforward.  \n",
    "- **Deterministic feature set**: Centralizing `FEATURE_COLUMNS` in `src/features.py` reduced train/inference drift.  \n",
    "- **Artifact loading contract**: Standardized `load_artifacts()` to return `(MODEL, IMPUTER, SCALER, META)`, simplifying app startup checks.  \n",
    "\n",
    "### What was hard / surprising\n",
    "- **Import path issues**: Running the app from a subfolder broke `import src`. This was fixed with a **sys.path bootstrap** that searches parent directories for `src/__init__.py`.  \n",
    "- **Port conflict on macOS**: Port `5000` was hijacked by **AirPlay (AirTunes)**, returning `403`. Switching Flask to **5050** resolved the issue.  \n",
    "- **Empty plots**: The “blank image” issue was caused by JSON error messages being saved as `.png`. Adding robust error handling, logging, and forcing `matplotlib` to use the `Agg` backend fixed this.  \n",
    "\n",
    "### Key decisions & rationale\n",
    "- **Pipeline consistency**: Adopted a consistent sequence of transforms (imputer → optional scaler → model). SMOTE is applied only during training, not inference.  \n",
    "- **Top-level exports**: Re-exported `download_data`, `build_features`, and `FEATURE_COLUMNS` in `src/__init__.py` for cleaner imports in notebooks and the app.  \n",
    "- **Minimal external state**: Endpoint logic avoids hidden globals beyond loaded artifacts; thresholds are kept in `META` for clarity and reproducibility.  \n",
    "\n",
    "### Bugs found & fixes\n",
    "- **`ModuleNotFoundError: src`** → Fixed with sys.path bootstrap and ensuring repo root execution.  \n",
    "- **`ImportError: save_artifacts`** → Cleaned up imports (chose either `from src.io import ...` or re-exported in `__init__.py`).  \n",
    "- **Blank `/plot` images** → Ensured the route always returns valid PNG bytes and added a fallback “mock series” if yfinance returns empty.  \n",
    "- **403 errors on `/plot`** → Diagnosed via headers; resolved by moving server to port `5050`.  \n",
    "\n",
    "### Risks & mitigations\n",
    "- **Feature order mismatch** → Store and enforce `META[\"feature_order\"]`; validate incoming features length in `/predict`.  \n",
    "- **Silent data gaps** from yfinance → Added logging, HTTP 404 error handling, and mock fallback for plot previews.  \n",
    "- **Class imbalance issues with SMOTE** → Added guardrails for single-class splits; advise using larger date ranges or disabling SMOTE for debugging.  \n",
    "\n",
    "### Observability & monitoring\n",
    "- **Liveness**: `/health` indicates `ok` or `degraded` based on artifact load.  \n",
    "- **Logging**: Clear log messages for artifact load, data download, and prediction errors.  \n",
    "- **Future metrics**: Add request counts, latency, error rates, and model drift monitoring.  \n",
    "\n",
    "### Reproducibility & handoff\n",
    "- **`requirements.txt`** included for reproducibility; pin versions before handoff if strict consistency is required.  \n",
    "- **README.md** documents setup, run commands, curl examples, and common pitfalls (e.g., macOS port conflicts).  \n",
    "- **Artifacts contract** documented; if missing, `/predict` clearly returns HTTP 503.  \n",
    "\n",
    "### Ethical & practical considerations\n",
    "- **Financial predictions**: Clearly state that outputs are experimental and **not financial advice**. Provide probability outputs to avoid overconfidence in raw predictions.  \n",
    "- **Data source reliability**: yfinance can lag or change schema; ensure graceful degradation and user messaging.  \n",
    "\n",
    "### If we had one more week\n",
    "- Add `/plot/features` to overlay **MA5/MA10/MA20** on top of closing price.  \n",
    "- Wrap preprocessing and model into a single serialized pipeline to simplify artifact management.  \n",
    "- Add **input validation** with Pydantic and **OpenAPI docs** (potentially moving to FastAPI).  \n",
    "- Implement basic monitoring (Prometheus/StatsD) with a small dashboard.  \n",
    "- Add `/train` endpoint (protected) to support retraining and artifact export end-to-end.  \n",
    "\n",
    "### Final checklist\n",
    "- [x] README updated with setup, ports, and curl examples  \n",
    "- [x] `requirements.txt` in place and installs cleanly  \n",
    "- [x] `src/` exports a stable API with unambiguous imports  \n",
    "- [x] Artifacts load path standardized (`artifacts/`)  \n",
    "- [x] `/health`, `/predict`, `/plot` tested locally on port `5050`  "
   ]
  },
  {
   "cell_type": "markdown",
   "id": "30d44a50",
   "metadata": {},
   "source": [
    "## 2) Optional: Dashboard Sketch\n",
    "Describe panels and key charts. You can also attach an image file in your repo (png/pdf)."
   ]
  },
  {
   "cell_type": "code",
   "execution_count": null,
   "id": "62b3652b",
   "metadata": {},
   "outputs": [],
   "source": [
    "# Optional helper: simple structure to list metrics\n",
    "monitoring = {\n",
    "    'data': ['freshness_minutes', 'null_rate', 'schema_hash'],\n",
    "    'model': ['rolling_mae_or_auc', 'calibration_error'],\n",
    "    'system': ['p95_latency_ms', 'error_rate'],\n",
    "    'business': ['approval_rate', 'bad_rate']\n",
    "}\n",
    "monitoring"
   ]
  }
 ],
 "metadata": {
  "kernelspec": {
   "display_name": "Python 3 (ipykernel)",
   "language": "python",
   "name": "python3"
  },
  "language_info": {
   "codemirror_mode": {
    "name": "ipython",
    "version": 3
   },
   "file_extension": ".py",
   "mimetype": "text/x-python",
   "name": "python",
   "nbconvert_exporter": "python",
   "pygments_lexer": "ipython3",
   "version": "3.10.18"
  }
 },
 "nbformat": 4,
 "nbformat_minor": 5
}
