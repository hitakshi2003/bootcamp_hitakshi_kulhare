{
 "cells": [
  {
   "cell_type": "code",
   "execution_count": 1,
   "id": "85caa310-db2a-413e-9265-e9d710f802e4",
   "metadata": {},
   "outputs": [
    {
     "name": "stdout",
     "output_type": "stream",
     "text": [
      "Requirement already satisfied: yfinance in /Users/hitakshikulhare/miniconda3/envs/bootcamp_env/lib/python3.10/site-packages (0.2.65)\n",
      "Requirement already satisfied: pandas>=1.3.0 in /Users/hitakshikulhare/miniconda3/envs/bootcamp_env/lib/python3.10/site-packages (from yfinance) (2.3.1)\n",
      "Requirement already satisfied: numpy>=1.16.5 in /Users/hitakshikulhare/miniconda3/envs/bootcamp_env/lib/python3.10/site-packages (from yfinance) (2.2.6)\n",
      "Requirement already satisfied: requests>=2.31 in /Users/hitakshikulhare/miniconda3/envs/bootcamp_env/lib/python3.10/site-packages (from yfinance) (2.32.4)\n",
      "Requirement already satisfied: multitasking>=0.0.7 in /Users/hitakshikulhare/miniconda3/envs/bootcamp_env/lib/python3.10/site-packages (from yfinance) (0.0.12)\n",
      "Requirement already satisfied: platformdirs>=2.0.0 in /Users/hitakshikulhare/miniconda3/envs/bootcamp_env/lib/python3.10/site-packages (from yfinance) (4.3.8)\n",
      "Requirement already satisfied: pytz>=2022.5 in /Users/hitakshikulhare/miniconda3/envs/bootcamp_env/lib/python3.10/site-packages (from yfinance) (2025.2)\n",
      "Requirement already satisfied: frozendict>=2.3.4 in /Users/hitakshikulhare/miniconda3/envs/bootcamp_env/lib/python3.10/site-packages (from yfinance) (2.4.6)\n",
      "Requirement already satisfied: peewee>=3.16.2 in /Users/hitakshikulhare/miniconda3/envs/bootcamp_env/lib/python3.10/site-packages (from yfinance) (3.18.2)\n",
      "Requirement already satisfied: beautifulsoup4>=4.11.1 in /Users/hitakshikulhare/miniconda3/envs/bootcamp_env/lib/python3.10/site-packages (from yfinance) (4.13.4)\n",
      "Requirement already satisfied: curl_cffi>=0.7 in /Users/hitakshikulhare/miniconda3/envs/bootcamp_env/lib/python3.10/site-packages (from yfinance) (0.13.0)\n",
      "Requirement already satisfied: protobuf>=3.19.0 in /Users/hitakshikulhare/miniconda3/envs/bootcamp_env/lib/python3.10/site-packages (from yfinance) (6.32.0)\n",
      "Requirement already satisfied: websockets>=13.0 in /Users/hitakshikulhare/miniconda3/envs/bootcamp_env/lib/python3.10/site-packages (from yfinance) (15.0.1)\n",
      "Requirement already satisfied: soupsieve>1.2 in /Users/hitakshikulhare/miniconda3/envs/bootcamp_env/lib/python3.10/site-packages (from beautifulsoup4>=4.11.1->yfinance) (2.7)\n",
      "Requirement already satisfied: typing-extensions>=4.0.0 in /Users/hitakshikulhare/miniconda3/envs/bootcamp_env/lib/python3.10/site-packages (from beautifulsoup4>=4.11.1->yfinance) (4.14.1)\n",
      "Requirement already satisfied: cffi>=1.12.0 in /Users/hitakshikulhare/miniconda3/envs/bootcamp_env/lib/python3.10/site-packages (from curl_cffi>=0.7->yfinance) (1.17.1)\n",
      "Requirement already satisfied: certifi>=2024.2.2 in /Users/hitakshikulhare/miniconda3/envs/bootcamp_env/lib/python3.10/site-packages (from curl_cffi>=0.7->yfinance) (2025.8.3)\n",
      "Requirement already satisfied: pycparser in /Users/hitakshikulhare/miniconda3/envs/bootcamp_env/lib/python3.10/site-packages (from cffi>=1.12.0->curl_cffi>=0.7->yfinance) (2.22)\n",
      "Requirement already satisfied: python-dateutil>=2.8.2 in /Users/hitakshikulhare/miniconda3/envs/bootcamp_env/lib/python3.10/site-packages (from pandas>=1.3.0->yfinance) (2.9.0.post0)\n",
      "Requirement already satisfied: tzdata>=2022.7 in /Users/hitakshikulhare/miniconda3/envs/bootcamp_env/lib/python3.10/site-packages (from pandas>=1.3.0->yfinance) (2025.2)\n",
      "Requirement already satisfied: six>=1.5 in /Users/hitakshikulhare/miniconda3/envs/bootcamp_env/lib/python3.10/site-packages (from python-dateutil>=2.8.2->pandas>=1.3.0->yfinance) (1.17.0)\n",
      "Requirement already satisfied: charset_normalizer<4,>=2 in /Users/hitakshikulhare/miniconda3/envs/bootcamp_env/lib/python3.10/site-packages (from requests>=2.31->yfinance) (3.4.3)\n",
      "Requirement already satisfied: idna<4,>=2.5 in /Users/hitakshikulhare/miniconda3/envs/bootcamp_env/lib/python3.10/site-packages (from requests>=2.31->yfinance) (3.10)\n",
      "Requirement already satisfied: urllib3<3,>=1.21.1 in /Users/hitakshikulhare/miniconda3/envs/bootcamp_env/lib/python3.10/site-packages (from requests>=2.31->yfinance) (2.5.0)\n",
      "Note: you may need to restart the kernel to use updated packages.\n"
     ]
    }
   ],
   "source": [
    "pip install yfinance"
   ]
  },
  {
   "cell_type": "code",
   "execution_count": 6,
   "id": "180c4cb2-23ce-47d2-8c18-b9ba33186eab",
   "metadata": {},
   "outputs": [
    {
     "name": "stdout",
     "output_type": "stream",
     "text": [
      "Requirement already satisfied: python-dotenv in /Users/hitakshikulhare/miniconda3/envs/bootcamp_env/lib/python3.10/site-packages (1.1.1)\n",
      "Note: you may need to restart the kernel to use updated packages.\n"
     ]
    }
   ],
   "source": [
    "pip install python-dotenv"
   ]
  },
  {
   "cell_type": "code",
   "execution_count": 7,
   "id": "9f756d76-a8e7-496e-82fa-84350f2ebf41",
   "metadata": {},
   "outputs": [
    {
     "name": "stderr",
     "output_type": "stream",
     "text": [
      "/var/folders/9p/80dvrgsd64d84mvphhrspjmw0000gn/T/ipykernel_37397/649094898.py:15: FutureWarning: YF.download() has changed argument auto_adjust default to True\n",
      "  data = yf.download(ticker, period=\"1mo\", interval=\"1d\")\n",
      "[*********************100%***********************]  1 of 1 completed"
     ]
    },
    {
     "name": "stdout",
     "output_type": "stream",
     "text": [
      "Validation Passed\n",
      "Shape: (23, 5)\n",
      "✅ Saved: api_yfinance_AAPL_20250816-1736.csv\n"
     ]
    },
    {
     "name": "stderr",
     "output_type": "stream",
     "text": [
      "\n"
     ]
    }
   ],
   "source": [
    "import os\n",
    "from dotenv import load_dotenv\n",
    "import yfinance as yf\n",
    "import pandas as pd\n",
    "from datetime import datetime\n",
    "\n",
    "# Load .env file\n",
    "load_dotenv()\n",
    "# (No API key needed for yfinance, but load_dotenv is good practice)\n",
    "\n",
    "# Set ticker\n",
    "ticker = 'AAPL'\n",
    "\n",
    "# Fetch data using yfinance\n",
    "data = yf.download(ticker, period=\"1mo\", interval=\"1d\")\n",
    "\n",
    "# Validate the DataFrame\n",
    "required_cols = ['Open', 'High', 'Low', 'Close', 'Volume']\n",
    "if not all(col in data.columns for col in required_cols):\n",
    "    raise ValueError(\"Missing one or more required columns.\")\n",
    "if data.isna().sum().sum() > 0:\n",
    "    raise ValueError(\"Data contains missing values.\")\n",
    "\n",
    "print(\"Validation Passed\")\n",
    "print(\"Shape:\", data.shape)\n",
    "\n",
    "# Save directly to homework4 folder\n",
    "timestamp = datetime.now().strftime('%Y%m%d-%H%M')\n",
    "filename = f\"api_yfinance_{ticker}_{timestamp}.csv\"\n",
    "data.to_csv(filename)\n",
    "\n",
    "print(f\"✅ Saved: {filename}\")\n"
   ]
  },
  {
   "cell_type": "code",
   "execution_count": 2,
   "id": "5e7e2d20-43bb-44db-9873-800c8e626bca",
   "metadata": {},
   "outputs": [
    {
     "name": "stdout",
     "output_type": "stream",
     "text": [
      "Requirement already satisfied: lxml in /Users/hitakshikulhare/miniconda3/lib/python3.13/site-packages (5.3.0)\n"
     ]
    }
   ],
   "source": [
    "!pip install lxml"
   ]
  },
  {
   "cell_type": "code",
   "execution_count": 2,
   "id": "d1cf7784-458f-4752-bcd0-d1fb97d3cb4f",
   "metadata": {},
   "outputs": [
    {
     "name": "stdout",
     "output_type": "stream",
     "text": [
      "<class 'pandas.core.frame.DataFrame'>\n",
      "RangeIndex: 503 entries, 0 to 502\n",
      "Data columns (total 8 columns):\n",
      " #   Column                 Non-Null Count  Dtype \n",
      "---  ------                 --------------  ----- \n",
      " 0   Symbol                 503 non-null    object\n",
      " 1   Security               503 non-null    object\n",
      " 2   GICS Sector            503 non-null    object\n",
      " 3   GICS Sub-Industry      503 non-null    object\n",
      " 4   Headquarters Location  503 non-null    object\n",
      " 5   Date added             503 non-null    object\n",
      " 6   CIK                    503 non-null    int64 \n",
      " 7   Founded                503 non-null    object\n",
      "dtypes: int64(1), object(7)\n",
      "memory usage: 31.6+ KB\n",
      "None\n",
      "✅ File saved as: scrape_wikipedia_sp500_20250817-1229.csv\n"
     ]
    }
   ],
   "source": [
    "import requests\n",
    "from bs4 import BeautifulSoup\n",
    "from io import StringIO\n",
    "import pandas as pd\n",
    "from datetime import datetime\n",
    "\n",
    "\n",
    "# Target URL\n",
    "url = 'https://en.wikipedia.org/wiki/List_of_S%26P_500_companies'\n",
    "response = requests.get(url)\n",
    "soup = BeautifulSoup(response.text, 'html.parser')\n",
    "\n",
    "# Locate table\n",
    "table = soup.find('table', {'id': 'constituents'})\n",
    "\n",
    "# Wrap in StringIO to fix the FutureWarning\n",
    "df = pd.read_html(StringIO(str(table)))[0]\n",
    "\n",
    "# Validate\n",
    "assert 'Symbol' in df.columns and 'Security' in df.columns\n",
    "print(df.info())\n",
    "\n",
    "# Save to homework4 directory\n",
    "timestamp = datetime.now().strftime('%Y%m%d-%H%M')\n",
    "filename = f\"scrape_wikipedia_sp500_{timestamp}.csv\"\n",
    "df.to_csv(filename, index=False)\n",
    "\n",
    "print(f\"✅ File saved as: {filename}\")"
   ]
  },
  {
   "cell_type": "markdown",
   "id": "5a5ccf3b-3eff-4018-bc3a-eabd3442798c",
   "metadata": {},
   "source": [
    "### Sources\n",
    "- API: Yahoo Finance via yfinance (Ticker: AAPL)\n",
    "- Scrape: Wikipedia S&P 500 constituents table\n",
    "\n",
    "### Parameters\n",
    "- yfinance: period='1mo', interval='1d'\n",
    "- Scraping: table with id='constituents'\n",
    "\n",
    "### Validation Logic\n",
    "- Checked for required columns\n",
    "- Ensured no missing values\n",
    "- Validated shape and dtypes\n",
    "\n",
    "### Assumptions & Risks\n",
    "- Yahoo Finance data is assumed to be accurate for demo purposes.\n",
    "- Wikipedia table structure may change, breaking selector logic.\n",
    "- .env file contains sensitive API keys and is excluded from Git.\n"
   ]
  }
 ],
 "metadata": {
  "kernelspec": {
   "display_name": "Python [conda env:bootcamp_env]",
   "language": "python",
   "name": "bootcamp_env"
  },
  "language_info": {
   "codemirror_mode": {
    "name": "ipython",
    "version": 3
   },
   "file_extension": ".py",
   "mimetype": "text/x-python",
   "name": "python",
   "nbconvert_exporter": "python",
   "pygments_lexer": "ipython3",
   "version": "3.10.18"
  }
 },
 "nbformat": 4,
 "nbformat_minor": 5
}
