{
 "cells": [
  {
   "cell_type": "markdown",
   "id": "8c316fcd",
   "metadata": {},
   "source": [
    "# Homework Starter — Stage 15: Orchestration & System Design\n",
    "Complete the sections below. Keep your answers concise and focused on orchestration readiness."
   ]
  },
  {
   "cell_type": "markdown",
   "id": "51dd0de0",
   "metadata": {},
   "source": [
    "## 1) Project Task Decomposition\n",
    "List 4–8 tasks. Add more rows as needed."
   ]
  },
  {
   "cell_type": "code",
   "execution_count": 1,
   "id": "3e558ae8",
   "metadata": {},
   "outputs": [
    {
     "data": {
      "text/html": [
       "<div>\n",
       "<style scoped>\n",
       "    .dataframe tbody tr th:only-of-type {\n",
       "        vertical-align: middle;\n",
       "    }\n",
       "\n",
       "    .dataframe tbody tr th {\n",
       "        vertical-align: top;\n",
       "    }\n",
       "\n",
       "    .dataframe thead th {\n",
       "        text-align: right;\n",
       "    }\n",
       "</style>\n",
       "<table border=\"1\" class=\"dataframe\">\n",
       "  <thead>\n",
       "    <tr style=\"text-align: right;\">\n",
       "      <th></th>\n",
       "      <th>task</th>\n",
       "      <th>inputs</th>\n",
       "      <th>outputs</th>\n",
       "      <th>idempotent</th>\n",
       "    </tr>\n",
       "  </thead>\n",
       "  <tbody>\n",
       "    <tr>\n",
       "      <th>0</th>\n",
       "      <td>ingest</td>\n",
       "      <td>/data/raw.ext</td>\n",
       "      <td>prices_raw.json</td>\n",
       "      <td>True</td>\n",
       "    </tr>\n",
       "    <tr>\n",
       "      <th>1</th>\n",
       "      <td>validate</td>\n",
       "      <td>prices_raw.json</td>\n",
       "      <td>prices_valid.json</td>\n",
       "      <td>True</td>\n",
       "    </tr>\n",
       "    <tr>\n",
       "      <th>2</th>\n",
       "      <td>clean</td>\n",
       "      <td>prices_valid.json</td>\n",
       "      <td>prices_clean.json</td>\n",
       "      <td>True</td>\n",
       "    </tr>\n",
       "    <tr>\n",
       "      <th>3</th>\n",
       "      <td>feature_engineer</td>\n",
       "      <td>prices_clean.json</td>\n",
       "      <td>features.json</td>\n",
       "      <td>True</td>\n",
       "    </tr>\n",
       "    <tr>\n",
       "      <th>4</th>\n",
       "      <td>train_or_score</td>\n",
       "      <td>features.json</td>\n",
       "      <td>model.json</td>\n",
       "      <td>False</td>\n",
       "    </tr>\n",
       "    <tr>\n",
       "      <th>5</th>\n",
       "      <td>evaluate</td>\n",
       "      <td>model.json</td>\n",
       "      <td>evaluation.json</td>\n",
       "      <td>True</td>\n",
       "    </tr>\n",
       "    <tr>\n",
       "      <th>6</th>\n",
       "      <td>report</td>\n",
       "      <td>evaluation.json</td>\n",
       "      <td>report.txt</td>\n",
       "      <td>True</td>\n",
       "    </tr>\n",
       "  </tbody>\n",
       "</table>\n",
       "</div>"
      ],
      "text/plain": [
       "               task             inputs            outputs  idempotent\n",
       "0            ingest      /data/raw.ext    prices_raw.json        True\n",
       "1          validate    prices_raw.json  prices_valid.json        True\n",
       "2             clean  prices_valid.json  prices_clean.json        True\n",
       "3  feature_engineer  prices_clean.json      features.json        True\n",
       "4    train_or_score      features.json         model.json       False\n",
       "5          evaluate         model.json    evaluation.json        True\n",
       "6            report    evaluation.json         report.txt        True"
      ]
     },
     "execution_count": 1,
     "metadata": {},
     "output_type": "execute_result"
    }
   ],
   "source": [
    "from pathlib import Path\n",
    "import pandas as pd\n",
    "from pathlib import Path\n",
    "import pandas as pd\n",
    "\n",
    "tasks = pd.DataFrame({\n",
    "    'task': [\n",
    "        'ingest',          # fetch raw data (e.g., yfinance or API)\n",
    "        'validate',        # schema + data quality checks\n",
    "        'clean',           # remove NaNs, outliers, enrich features\n",
    "        'feature_engineer',# compute MA/Volatility/Lags\n",
    "        'train_or_score',  # train new model or score with existing\n",
    "        'evaluate',        # metrics, drift detection\n",
    "        'report'           # save final outputs for stakeholders\n",
    "    ],\n",
    "    'inputs': [\n",
    "        '/data/raw.ext',        # external data source\n",
    "        'prices_raw.json',      # output of ingest\n",
    "        'prices_valid.json',    # after validation\n",
    "        'prices_clean.json',    # after cleaning\n",
    "        'features.json',        # engineered dataset\n",
    "        'model.json',           # trained model\n",
    "        'evaluation.json'       # eval results\n",
    "    ],\n",
    "    'outputs': [\n",
    "        'prices_raw.json',      # stored raw data\n",
    "        'prices_valid.json',    # validated dataset\n",
    "        'prices_clean.json',    # cleaned dataset\n",
    "        'features.json',        # engineered features\n",
    "        'model.json',           # serialized model\n",
    "        'evaluation.json',      # metrics + drift info\n",
    "        'report.txt'            # human-readable report\n",
    "    ],\n",
    "    'idempotent': [\n",
    "        True,   # ingest: safe to rerun (overwrites)\n",
    "        True,   # validate: same output for same input\n",
    "        True,   # clean: deterministic\n",
    "        True,   # feature engineering: deterministic\n",
    "        False,  # train_or_score: may change if randomness not fixed\n",
    "        True,   # evaluate: deterministic given same model+data\n",
    "        True    # report: deterministic given inputs\n",
    "    ]\n",
    "})\n",
    "\n",
    "tasks"
   ]
  },
  {
   "cell_type": "markdown",
   "id": "1d43b001",
   "metadata": {},
   "source": [
    "## 2) Dependencies (DAG)\n",
    "Describe dependencies and paste a small diagram if you have one."
   ]
  },
  {
   "cell_type": "code",
   "execution_count": 2,
   "id": "c790045f",
   "metadata": {},
   "outputs": [
    {
     "data": {
      "text/plain": [
       "{'ingest': [],\n",
       " 'validate': ['ingest'],\n",
       " 'clean': ['validate'],\n",
       " 'feature_engineer': ['clean'],\n",
       " 'train_or_score': ['feature_engineer'],\n",
       " 'evaluate': ['train_or_score'],\n",
       " 'report': ['evaluate']}"
      ]
     },
     "execution_count": 2,
     "metadata": {},
     "output_type": "execute_result"
    }
   ],
   "source": [
    "dag = {\n",
    "    'ingest': [],\n",
    "    'validate': ['ingest'],\n",
    "    'clean': ['validate'],\n",
    "    'feature_engineer': ['clean'],\n",
    "    'train_or_score': ['feature_engineer'],\n",
    "    'evaluate': ['train_or_score'],\n",
    "    'report': ['evaluate']\n",
    "}\n",
    "dag"
   ]
  },
  {
   "cell_type": "code",
   "execution_count": 11,
   "id": "af096f41-58df-443d-99f9-f48f1a4aba46",
   "metadata": {},
   "outputs": [
    {
     "ename": "SyntaxError",
     "evalue": "invalid syntax (1301444899.py, line 1)",
     "output_type": "error",
     "traceback": [
      "\u001b[0;36m  Cell \u001b[0;32mIn[11], line 1\u001b[0;36m\u001b[0m\n\u001b[0;31m    **The pipeline follows a step-by-step sequence of tasks:\u001b[0m\n\u001b[0m    ^\u001b[0m\n\u001b[0;31mSyntaxError\u001b[0m\u001b[0;31m:\u001b[0m invalid syntax\n"
     ]
    }
   ],
   "source": [
    "**The pipeline follows a step-by-step sequence of tasks:\n",
    "\n",
    "- **ingest**: fetches raw data and produces `prices_raw.json`.  \n",
    "- **validate**: depends on `ingest`, checks schema/quality, outputs `prices_valid.json`.  \n",
    "- **clean**: depends on `validate`, cleans the dataset, outputs `prices_clean.json`.  \n",
    "- **feature_engineer**: depends on `clean`, creates moving averages, volatility, and lags, outputs `features.json`.  \n",
    "- **train_or_score**: depends on `feature_engineer`, either trains a model or scores with an existing one, outputs `model.json` or `predictions.json`.  \n",
    "- **evaluate**: depends on `train_or_score`, evaluates results, outputs `evaluation.json`.  \n",
    "- **report**: depends on `evaluate`, generates a human-readable `report.txt`.  \n",
    "\n",
    "### Idempotency\n",
    "- `ingest`, `validate`, `clean`, `feature_engineer`, `evaluate`, and `report` are idempotent - the same inputs always produce the same outputs.  \n",
    "- `train_or_score` is not strictly idempotent unless random seeds and data windows are controlled.\n",
    "\n",
    "### Failure & Retry\n",
    "- If **validate** fails, the workflow stops and reports the error.  \n",
    "- **ingest**, **clean**, and **feature_engineer** can be retried with backoff on transient failures.  \n",
    "- **train_or_score** retries once; if it still fails, the previous model is kept.  \n",
    "- **evaluate** and **report** only run if their required inputs are available.\n",
    "\n",
    "### DAG Dictionary\n",
    "```python\n",
    "dag = {\n",
    "    \"ingest\": [],\n",
    "    \"validate\": [\"ingest\"],\n",
    "    \"clean\": [\"validate\"],\n",
    "    \"feature_engineer\": [\"clean\"],\n",
    "    \"train_or_score\": [\"feature_engineer\"],\n",
    "    \"evaluate\": [\"train_or_score\"],\n",
    "    \"report\": [\"evaluate\"],\n",
    "}"
   ]
  },
  {
   "cell_type": "markdown",
   "id": "f069edd0-0620-48e7-9435-3b252b354c65",
   "metadata": {},
   "source": [
    "```mermaid\n",
    "graph TD\n",
    "    ingest --> validate\n",
    "    validate --> clean\n",
    "    clean --> feature_engineer\n",
    "    feature_engineer --> train_or_score\n",
    "    train_or_score --> evaluate\n",
    "    evaluate --> report"
   ]
  },
  {
   "cell_type": "markdown",
   "id": "cea21546",
   "metadata": {},
   "source": [
    "## 3) Logging & Checkpoints Plan\n",
    "Specify what you will log and where you will checkpoint for each task."
   ]
  },
  {
   "cell_type": "code",
   "execution_count": 12,
   "id": "73c7ffb2",
   "metadata": {},
   "outputs": [
    {
     "data": {
      "text/html": [
       "<div>\n",
       "<style scoped>\n",
       "    .dataframe tbody tr th:only-of-type {\n",
       "        vertical-align: middle;\n",
       "    }\n",
       "\n",
       "    .dataframe tbody tr th {\n",
       "        vertical-align: top;\n",
       "    }\n",
       "\n",
       "    .dataframe thead th {\n",
       "        text-align: right;\n",
       "    }\n",
       "</style>\n",
       "<table border=\"1\" class=\"dataframe\">\n",
       "  <thead>\n",
       "    <tr style=\"text-align: right;\">\n",
       "      <th></th>\n",
       "      <th>task</th>\n",
       "      <th>log_messages</th>\n",
       "      <th>checkpoint_artifact</th>\n",
       "    </tr>\n",
       "  </thead>\n",
       "  <tbody>\n",
       "    <tr>\n",
       "      <th>0</th>\n",
       "      <td>ingest</td>\n",
       "      <td>start/end, rows, source URI</td>\n",
       "      <td>prices_raw.json</td>\n",
       "    </tr>\n",
       "    <tr>\n",
       "      <th>1</th>\n",
       "      <td>clean</td>\n",
       "      <td>start/end, rows in/out</td>\n",
       "      <td>prices_clean.json</td>\n",
       "    </tr>\n",
       "    <tr>\n",
       "      <th>2</th>\n",
       "      <td>train_or_score</td>\n",
       "      <td>params, metrics</td>\n",
       "      <td>model.json</td>\n",
       "    </tr>\n",
       "    <tr>\n",
       "      <th>3</th>\n",
       "      <td>report</td>\n",
       "      <td>artifact path</td>\n",
       "      <td>report.txt</td>\n",
       "    </tr>\n",
       "  </tbody>\n",
       "</table>\n",
       "</div>"
      ],
      "text/plain": [
       "             task                 log_messages checkpoint_artifact\n",
       "0          ingest  start/end, rows, source URI     prices_raw.json\n",
       "1           clean       start/end, rows in/out   prices_clean.json\n",
       "2  train_or_score              params, metrics          model.json\n",
       "3          report                artifact path          report.txt"
      ]
     },
     "execution_count": 12,
     "metadata": {},
     "output_type": "execute_result"
    }
   ],
   "source": [
    "logging_plan = pd.DataFrame({\n",
    "    'task': ['ingest', 'clean', 'train_or_score', 'report'],\n",
    "    'log_messages': [\n",
    "        'start/end, rows, source URI',\n",
    "        'start/end, rows in/out',\n",
    "        'params, metrics',\n",
    "        'artifact path'\n",
    "    ],\n",
    "    'checkpoint_artifact': [\n",
    "        'prices_raw.json',\n",
    "        'prices_clean.json',\n",
    "        'model.json',\n",
    "        'report.txt'\n",
    "    ]\n",
    "})\n",
    "logging_plan"
   ]
  },
  {
   "cell_type": "markdown",
   "id": "c93b1c36",
   "metadata": {},
   "source": [
    "## 4) Right-Sizing Automation\n",
    "\n",
    "### Automate Now\n",
    "- **Data ingestion (ingest)**: Automated via yfinance/API fetch. It is repetitive, deterministic, and benefits from scheduling (daily/weekly runs).  \n",
    "- **Validation & cleaning (validate, clean)**: Automated checks for schema, nulls, duplicates, and outlier handling. These are rule-based and consistent across runs.  \n",
    "- **Feature engineering (feature_engineer)**: Automated creation of MA5/MA10/MA20, volatility, and lag features. The logic is fixed, so running it programmatically avoids human error.  \n",
    "- **Model training and scoring (train_or_score)**: Automated for reproducibility. Training can be scheduled periodically or triggered when new data arrives; scoring runs whenever predictions are requested.  \n",
    "- **Evaluation (evaluate)**: Automated metrics (AUC, precision/recall, drift statistics) ensure objective, consistent tracking of model quality.\n",
    "\n",
    "### Keep Manual (for now)\n",
    "- **Reporting (report)**: While report generation can be scripted, final interpretation and narrative for stakeholders benefit from human oversight. Analysts add context, business implications, and highlight risks that automation alone cannot.  \n",
    "- **Retraining decisions**: Although training can be automated, the decision *when* to retrain (e.g., based on business cycles, data anomalies, or drift signals) should remain manual until confidence in monitoring thresholds is high.  \n",
    "- **Feature updates**: Adding new domain-specific features should stay manual, since it requires domain expertise and experimentation.\n",
    "\n",
    "### Why\n",
    "- **Automated tasks** are repetitive, rules-driven, and benefit from consistency and scalability. They reduce human error and free up time for higher-level tasks.  \n",
    "- **Manual tasks** involve judgment, interpretation, or creativity (e.g., report writing, deciding when new features are necessary). Leaving these human-in-the-loop ensures decisions align with business context and ethical considerations.  \n",
    "- This balance avoids over-engineering early, while still giving reliable, reproducible automation where it adds the most value."
   ]
  },
  {
   "cell_type": "markdown",
   "id": "e30fb733",
   "metadata": {},
   "source": [
    "## 5) (Stretch) Refactor One Task into a Function + CLI\n",
    "Use the templates below."
   ]
  },
  {
   "cell_type": "code",
   "execution_count": 15,
   "id": "a95278e2",
   "metadata": {},
   "outputs": [
    {
     "name": "stdout",
     "output_type": "stream",
     "text": [
      "INFO:root:[my_task] start\n",
      "INFO:root:[my_task] wrote data/out.json\n"
     ]
    }
   ],
   "source": [
    "import argparse, json, logging, sys\n",
    "from datetime import datetime\n",
    "from pathlib import Path\n",
    "\n",
    "def my_task(input_path: str, output_path: str) -> None:\n",
    "    logging.info(\"[my_task] start\")\n",
    "    result = {\n",
    "        \"run_at\": datetime.utcnow().isoformat(),\n",
    "        \"note\": \"replace with real output\"\n",
    "    }\n",
    "    Path(output_path).parent.mkdir(parents=True, exist_ok=True)\n",
    "    Path(output_path).write_text(json.dumps(result, indent=2))\n",
    "    logging.info(\"[my_task] wrote %s\", output_path)\n",
    "\n",
    "def main(argv=None):\n",
    "    parser = argparse.ArgumentParser(description=\"Homework task wrapper\")\n",
    "    parser.add_argument(\"--input\", required=True)\n",
    "    parser.add_argument(\"--output\", required=True)\n",
    "    args = parser.parse_args(argv)\n",
    "    logging.basicConfig(level=logging.INFO,\n",
    "                        handlers=[logging.StreamHandler(sys.stdout)])\n",
    "    my_task(args.input, args.output)\n",
    "\n",
    "# CLI entrypoint\n",
    "if __name__ == \"__main__\":          \n",
    "    main([\"--input\", \"data/in.ext\", \"--output\", \"data/out.json\"]) "
   ]
  },
  {
   "cell_type": "markdown",
   "id": "bfcb374a",
   "metadata": {},
   "source": [
    "### Optional: Simple Retry Wrapper (fill in)\n",
    "Add a small retry with linear backoff to harden a task."
   ]
  },
  {
   "cell_type": "code",
   "execution_count": null,
   "id": "7c872294",
   "metadata": {},
   "outputs": [],
   "source": [
    "import time\n",
    "def retry(n_tries=3, delay=0.2):\n",
    "    def wrapper(fn, *args, **kwargs):\n",
    "        # TODO: implement try/except loop with sleep backoff\n",
    "        return fn(*args, **kwargs)\n",
    "    return wrapper"
   ]
  }
 ],
 "metadata": {
  "kernelspec": {
   "display_name": "Python 3 (ipykernel)",
   "language": "python",
   "name": "python3"
  },
  "language_info": {
   "codemirror_mode": {
    "name": "ipython",
    "version": 3
   },
   "file_extension": ".py",
   "mimetype": "text/x-python",
   "name": "python",
   "nbconvert_exporter": "python",
   "pygments_lexer": "ipython3",
   "version": "3.10.18"
  }
 },
 "nbformat": 4,
 "nbformat_minor": 5
}
