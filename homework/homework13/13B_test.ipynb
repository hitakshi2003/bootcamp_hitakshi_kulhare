{
 "cells": [
  {
   "cell_type": "code",
   "execution_count": 1,
   "id": "737e090b-30cd-4ef4-a5f4-3a0f255d459a",
   "metadata": {},
   "outputs": [
    {
     "name": "stdout",
     "output_type": "stream",
     "text": [
      "[OK] sys.path[0] = /Users/hitakshikulhare/bootcamp_hitakshi_kulhare\n",
      "Using src from: /Users/hitakshikulhare/bootcamp_hitakshi_kulhare/src/__init__.py\n",
      "src.data: FOUND\n",
      "src.features: FOUND\n",
      "src.io: FOUND\n"
     ]
    }
   ],
   "source": [
    "import sys\n",
    "from pathlib import Path\n",
    "import importlib\n",
    "import pandas as pd\n",
    "import numpy as np\n",
    "\n",
    "here = Path().resolve()\n",
    "repo_root = None\n",
    "for p in [here] + list(here.parents):\n",
    "    if (p / \"src\" / \"__init__.py\").exists():\n",
    "        repo_root = p\n",
    "        break\n",
    "\n",
    "if repo_root is None:\n",
    "    raise RuntimeError(\"Could not find top-level 'src/__init__.py' from this notebook.\")\n",
    "\n",
    "sys.path.insert(0, str(repo_root))\n",
    "print(\"[OK] sys.path[0] =\", sys.path[0])\n",
    "\n",
    "import src\n",
    "print(\"Using src from:\", getattr(src, \"__file__\", \"<package>\"))\n",
    "\n",
    "for mod in (\"src.data\", \"src.features\", \"src.io\"):\n",
    "    spec = importlib.util.find_spec(mod)\n",
    "    print(f\"{mod}: {'FOUND' if spec else 'missing'}\")"
   ]
  },
  {
   "cell_type": "code",
   "execution_count": 3,
   "id": "dfd4b423-54ab-4c8e-8827-94350873f522",
   "metadata": {},
   "outputs": [],
   "source": [
    "from sklearn.model_selection import train_test_split\n",
    "from sklearn.impute import SimpleImputer\n",
    "from sklearn.preprocessing import StandardScaler\n",
    "from imblearn.over_sampling import SMOTE\n",
    "from sklearn.ensemble import RandomForestClassifier\n",
    "from sklearn.metrics import roc_auc_score, classification_report\n",
    "from src.io import save_artifacts, load_artifacts\n",
    "from src import download_data, build_features, FEATURE_COLUMNS\n",
    "from src.io import save_artifacts, load_artifacts"
   ]
  },
  {
   "cell_type": "code",
   "execution_count": 4,
   "id": "5edaf6c1-de99-420f-815f-8c0fb1fb8a0e",
   "metadata": {},
   "outputs": [
    {
     "name": "stdout",
     "output_type": "stream",
     "text": [
      "VAL AUC: 0.4794\n",
      "              precision    recall  f1-score   support\n",
      "\n",
      "           0       0.45      0.48      0.46        88\n",
      "           1       0.52      0.49      0.50       101\n",
      "\n",
      "    accuracy                           0.48       189\n",
      "   macro avg       0.48      0.48      0.48       189\n",
      "weighted avg       0.48      0.48      0.48       189\n",
      "\n"
     ]
    }
   ],
   "source": [
    "# 1) Data\n",
    "df = download_data(\"AAPL\", \"2020-01-01\", \"2025-01-01\")\n",
    "df = build_features(df)\n",
    "\n",
    "X = df[FEATURE_COLUMNS].copy()\n",
    "y = df[\"Target\"].astype(int)\n",
    "\n",
    "# 2) Split\n",
    "X_train, X_temp, y_train, y_temp = train_test_split(X, y, test_size=0.30, stratify=y, random_state=42)\n",
    "X_val, X_test, y_val, y_test = train_test_split(X_temp, y_temp, test_size=0.50, stratify=y_temp, random_state=42)\n",
    "\n",
    "# 3) Impute -> SMOTE -> Scale\n",
    "from sklearn.impute import SimpleImputer\n",
    "imputer = SimpleImputer(strategy=\"median\")\n",
    "X_train_imp = imputer.fit_transform(X_train)\n",
    "X_val_imp   = imputer.transform(X_val)\n",
    "X_test_imp  = imputer.transform(X_test)\n",
    "\n",
    "smote = SMOTE(random_state=42)\n",
    "X_train_sm, y_train_sm = smote.fit_resample(X_train_imp, y_train)\n",
    "\n",
    "scaler = StandardScaler()\n",
    "X_train_sc = scaler.fit_transform(X_train_sm)\n",
    "X_val_sc   = scaler.transform(X_val_imp)\n",
    "X_test_sc  = scaler.transform(X_test_imp)\n",
    "\n",
    "# 4) Model\n",
    "rf = RandomForestClassifier(n_estimators=300, class_weight=\"balanced_subsample\", random_state=42)\n",
    "rf.fit(X_train_sm, y_train_sm)  # RF OK on unscaled\n",
    "\n",
    "proba_val = rf.predict_proba(X_val_imp)[:,1]\n",
    "print(\"VAL AUC:\", round(roc_auc_score(y_val, proba_val), 4))\n",
    "print(classification_report(y_val, (proba_val>=0.5).astype(int), zero_division=0))"
   ]
  },
  {
   "cell_type": "code",
   "execution_count": null,
   "id": "8d83d756-8590-4c94-900d-a4a8fd5ab468",
   "metadata": {},
   "outputs": [],
   "source": []
  }
 ],
 "metadata": {
  "kernelspec": {
   "display_name": "Python [conda env:bootcamp_env]",
   "language": "python",
   "name": "bootcamp_env"
  },
  "language_info": {
   "codemirror_mode": {
    "name": "ipython",
    "version": 3
   },
   "file_extension": ".py",
   "mimetype": "text/x-python",
   "name": "python",
   "nbconvert_exporter": "python",
   "pygments_lexer": "ipython3",
   "version": "3.10.18"
  }
 },
 "nbformat": 4,
 "nbformat_minor": 5
}
