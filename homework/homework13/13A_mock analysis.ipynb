{
 "cells": [
  {
   "cell_type": "code",
   "execution_count": 1,
   "id": "e5bbf430-c944-46d0-a2f6-2310ea7aed98",
   "metadata": {},
   "outputs": [
    {
     "name": "stdout",
     "output_type": "stream",
     "text": [
      "[OK] sys.path[0] = /Users/hitakshikulhare/bootcamp_hitakshi_kulhare\n",
      "Using src from: /Users/hitakshikulhare/bootcamp_hitakshi_kulhare/src/__init__.py\n",
      "src.data: FOUND\n",
      "src.features: FOUND\n",
      "src.io: FOUND\n"
     ]
    }
   ],
   "source": [
    "import sys\n",
    "from pathlib import Path\n",
    "import importlib\n",
    "import pandas as pd\n",
    "import numpy as np\n",
    "\n",
    "here = Path().resolve()\n",
    "repo_root = None\n",
    "for p in [here] + list(here.parents):\n",
    "    if (p / \"src\" / \"__init__.py\").exists():\n",
    "        repo_root = p\n",
    "        break\n",
    "\n",
    "if repo_root is None:\n",
    "    raise RuntimeError(\"Could not find top-level 'src/__init__.py' from this notebook.\")\n",
    "\n",
    "sys.path.insert(0, str(repo_root))\n",
    "print(\"[OK] sys.path[0] =\", sys.path[0])\n",
    "\n",
    "import src\n",
    "print(\"Using src from:\", getattr(src, \"__file__\", \"<package>\"))\n",
    "\n",
    "for mod in (\"src.data\", \"src.features\", \"src.io\"):\n",
    "    spec = importlib.util.find_spec(mod)\n",
    "    print(f\"{mod}: {'FOUND' if spec else 'missing'}\")"
   ]
  },
  {
   "cell_type": "code",
   "execution_count": 2,
   "id": "6e4ce18b-71ef-42a2-b17d-ccb8f3695944",
   "metadata": {},
   "outputs": [
    {
     "data": {
      "text/html": [
       "<div>\n",
       "<style scoped>\n",
       "    .dataframe tbody tr th:only-of-type {\n",
       "        vertical-align: middle;\n",
       "    }\n",
       "\n",
       "    .dataframe tbody tr th {\n",
       "        vertical-align: top;\n",
       "    }\n",
       "\n",
       "    .dataframe thead th {\n",
       "        text-align: right;\n",
       "    }\n",
       "</style>\n",
       "<table border=\"1\" class=\"dataframe\">\n",
       "  <thead>\n",
       "    <tr style=\"text-align: right;\">\n",
       "      <th></th>\n",
       "      <th>Close</th>\n",
       "      <th>Volume</th>\n",
       "      <th>Return</th>\n",
       "      <th>Return_next</th>\n",
       "      <th>Target</th>\n",
       "    </tr>\n",
       "  </thead>\n",
       "  <tbody>\n",
       "    <tr>\n",
       "      <th>0</th>\n",
       "      <td>100.0</td>\n",
       "      <td>1000000</td>\n",
       "      <td>NaN</td>\n",
       "      <td>0.010000</td>\n",
       "      <td>1</td>\n",
       "    </tr>\n",
       "    <tr>\n",
       "      <th>1</th>\n",
       "      <td>101.0</td>\n",
       "      <td>1050000</td>\n",
       "      <td>0.010000</td>\n",
       "      <td>-0.004950</td>\n",
       "      <td>0</td>\n",
       "    </tr>\n",
       "    <tr>\n",
       "      <th>2</th>\n",
       "      <td>100.5</td>\n",
       "      <td>980000</td>\n",
       "      <td>-0.004950</td>\n",
       "      <td>0.014925</td>\n",
       "      <td>1</td>\n",
       "    </tr>\n",
       "    <tr>\n",
       "      <th>3</th>\n",
       "      <td>102.0</td>\n",
       "      <td>1100000</td>\n",
       "      <td>0.014925</td>\n",
       "      <td>0.009804</td>\n",
       "      <td>1</td>\n",
       "    </tr>\n",
       "    <tr>\n",
       "      <th>4</th>\n",
       "      <td>103.0</td>\n",
       "      <td>1020000</td>\n",
       "      <td>0.009804</td>\n",
       "      <td>NaN</td>\n",
       "      <td>0</td>\n",
       "    </tr>\n",
       "  </tbody>\n",
       "</table>\n",
       "</div>"
      ],
      "text/plain": [
       "   Close   Volume    Return  Return_next  Target\n",
       "0  100.0  1000000       NaN     0.010000       1\n",
       "1  101.0  1050000  0.010000    -0.004950       0\n",
       "2  100.5   980000 -0.004950     0.014925       1\n",
       "3  102.0  1100000  0.014925     0.009804       1\n",
       "4  103.0  1020000  0.009804          NaN       0"
      ]
     },
     "metadata": {},
     "output_type": "display_data"
    }
   ],
   "source": [
    "df = pd.DataFrame({\n",
    "    \"Close\": [100, 101, 100.5, 102, 103],\n",
    "    \"Volume\": [1_000_000, 1_050_000, 980_000, 1_100_000, 1_020_000]\n",
    "})\n",
    "df[\"Return\"] = df[\"Close\"].pct_change()\n",
    "df[\"Return_next\"] = df[\"Return\"].shift(-1)\n",
    "df[\"Target\"] = (df[\"Return_next\"] > 0).astype(int)\n",
    "\n",
    "display(df.head())"
   ]
  },
  {
   "cell_type": "code",
   "execution_count": null,
   "id": "4d29bdcc-2199-4d3d-ae87-952be9356719",
   "metadata": {},
   "outputs": [],
   "source": []
  }
 ],
 "metadata": {
  "kernelspec": {
   "display_name": "Python [conda env:bootcamp_env]",
   "language": "python",
   "name": "bootcamp_env"
  },
  "language_info": {
   "codemirror_mode": {
    "name": "ipython",
    "version": 3
   },
   "file_extension": ".py",
   "mimetype": "text/x-python",
   "name": "python",
   "nbconvert_exporter": "python",
   "pygments_lexer": "ipython3",
   "version": "3.10.18"
  }
 },
 "nbformat": 4,
 "nbformat_minor": 5
}
