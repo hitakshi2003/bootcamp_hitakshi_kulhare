{
 "cells": [
  {
   "cell_type": "markdown",
   "metadata": {},
   "source": [
    "# Stage 16 Homework Starter\n",
    "\n",
    "This notebook is a starting point for polishing your final repo and lifecycle mapping."
   ]
  },
  {
   "cell_type": "markdown",
   "metadata": {},
   "source": [
    "## Checklist Template\n",
    " - Add checklist elements, as in the examples below, to make sure you cover everything you would like to accomplish\n",
    "- Update this checklist as you finalize your repo."
   ]
  },
  {
   "cell_type": "code",
   "execution_count": null,
   "metadata": {},
   "outputs": [],
   "source": [
    "checklist = {\n",
    "    \"repo_clean\": True,               # unnecessary files removed, structure organized\n",
    "    \"repo_complete\": True,            # all homeworks (13–16) included\n",
    "    \"readme_complete\": True,          # clear README with setup, usage, and examples\n",
    "    \"lifecycle_map\": True,            # lifecycle diagram / DAG included\n",
    "    \"summary_doc\": True,              # final summary / reflections written\n",
    "    \"framework_guide_table\": True     # orchestration/framework guide table filled in\n",
    "}\n",
    "checklist"
   ]
  },
  {
   "cell_type": "markdown",
   "metadata": {},
   "source": [
    "## Reflection Prompts\n",
    "\n",
    "### What stage of the lifecycle was hardest for you, and why?  \n",
    "The most challenging stage was **deployment and orchestration**. While data ingestion, cleaning, and modeling were familiar, turning these into a reproducible and automated pipeline required new considerations. Handling command-line interfaces, managing dependencies between tasks, and debugging path/import issues were tricky. This stage highlighted how much detail goes into making a project production-ready beyond just the model itself.\n",
    "\n",
    "### Which part of your repo is most reusable in a future project?  \n",
    "The **`src/` package** is the most reusable component. It encapsulates data ingestion, feature engineering, and artifact management in modular functions. These modules can be directly reused or slightly adapted for other machine learning projects. The CLI task wrapper is also valuable, as it provides a consistent structure for transforming functions into repeatable command-line tools.\n",
    "\n",
    "### If a teammate had to pick up your repo tomorrow, what would help them most?  \n",
    "The most helpful resources would be a **well-structured README.md** and a **requirements.txt** file. The README explains environment setup, commands for running the Flask API and CLI tasks, and key project decisions. The requirements file ensures they can reproduce the environment quickly. In addition, the DAG documentation and reflections provide context, so a teammate not only knows *how* to run the project but also understands *why* it was designed this way."
   ]
  },
  {
   "cell_type": "code",
   "execution_count": null,
   "metadata": {},
   "outputs": [],
   "source": []
  }
 ],
 "metadata": {
  "kernelspec": {
   "display_name": "Python 3 (ipykernel)",
   "language": "python",
   "name": "python3"
  },
  "language_info": {
   "codemirror_mode": {
    "name": "ipython",
    "version": 3
   },
   "file_extension": ".py",
   "mimetype": "text/x-python",
   "name": "python",
   "nbconvert_exporter": "python",
   "pygments_lexer": "ipython3",
   "version": "3.10.18"
  }
 },
 "nbformat": 4,
 "nbformat_minor": 4
}
