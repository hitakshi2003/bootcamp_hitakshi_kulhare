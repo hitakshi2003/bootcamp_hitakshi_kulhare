{
 "cells": [
  {
   "cell_type": "code",
   "execution_count": 1,
   "id": "cd173b63-e574-4d01-be70-b8ea3406b944",
   "metadata": {},
   "outputs": [],
   "source": [
    "# Environment & Config Check"
   ]
  },
  {
   "cell_type": "code",
   "execution_count": 3,
   "id": "58156eac-cf95-4f9d-97ef-541c65cef453",
   "metadata": {},
   "outputs": [
    {
     "name": "stdout",
     "output_type": "stream",
     "text": [
      "API_KEY loaded successfully: dummy_key_123\n"
     ]
    }
   ],
   "source": [
    "import sys\n",
    "sys.path.append('../src')  \n",
    "\n",
    "from config import load_env, get_key\n",
    "\n",
    "load_env()\n",
    "\n",
    "# Check if API_KEY exists\n",
    "api_key = get_key('API_KEY')\n",
    "if api_key:\n",
    "    print(f\"API_KEY loaded successfully: {api_key}\")\n",
    "else:\n",
    "    print(\"import numpy as np\n",
    "\n",
    "# Test numpy with a small array operation\n",
    "arr = np.array([1, 2, 3, 4, 5])\n",
    "result = arr * 2\n",
    "print(f\"Original array: {arr}\")\n",
    "print(f\"Array * 2: {result}\")\n",
    "print(f\"Sum of result: {np.sum(result)}\")API_KEY not found\")"
   ]
  },
  {
   "cell_type": "code",
   "execution_count": 4,
   "id": "54019940-6b4d-4abe-901c-a490e7bac2db",
   "metadata": {},
   "outputs": [
    {
     "name": "stdout",
     "output_type": "stream",
     "text": [
      "Original array: [1 2 3 4 5]\n",
      "Array * 2: [ 2  4  6  8 10]\n",
      "Sum of result: 30\n"
     ]
    }
   ],
   "source": [
    "import numpy as np\n",
    "\n",
    "arr = np.array([1, 2, 3, 4, 5])\n",
    "result = arr * 2\n",
    "print(f\"Original array: {arr}\")\n",
    "print(f\"Array * 2: {result}\")\n",
    "print(f\"Sum of result: {np.sum(result)}\")"
   ]
  },
  {
   "cell_type": "code",
   "execution_count": null,
   "id": "86e5b4e4-9c76-4b42-b046-32ec957822d7",
   "metadata": {},
   "outputs": [],
   "source": []
  }
 ],
 "metadata": {
  "kernelspec": {
   "display_name": "Python [conda env:bootcamp_env]",
   "language": "python",
   "name": "bootcamp_env"
  },
  "language_info": {
   "codemirror_mode": {
    "name": "ipython",
    "version": 3
   },
   "file_extension": ".py",
   "mimetype": "text/x-python",
   "name": "python",
   "nbconvert_exporter": "python",
   "pygments_lexer": "ipython3",
   "version": "3.10.18"
  }
 },
 "nbformat": 4,
 "nbformat_minor": 5
}
